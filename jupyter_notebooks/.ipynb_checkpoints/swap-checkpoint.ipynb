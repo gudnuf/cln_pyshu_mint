{
 "cells": [
  {
   "cell_type": "markdown",
   "id": "dd5a0940-6c49-46f9-8977-2d6c30627638",
   "metadata": {},
   "source": [
    "## Set up lightning-cli's"
   ]
  },
  {
   "cell_type": "code",
   "execution_count": 13,
   "id": "c15067f4-4829-4e04-8153-da85f9197f74",
   "metadata": {},
   "outputs": [
    {
     "name": "stdout",
     "output_type": "stream",
     "text": [
      "l1's lightning-cli is:  /nix/store/0bq00qd0scchy6vasjpqxqg53aijcca3-clightning-v23.11rc1/bin/lightning-cli --lightning-dir=/home/gudnuf/cashu/pyshu_mint/.lightning_nodes/l1\n",
      "l2's lightning-cli is:  /nix/store/0bq00qd0scchy6vasjpqxqg53aijcca3-clightning-v23.11rc1/bin/lightning-cli --lightning-dir=/home/gudnuf/cashu/pyshu_mint/.lightning_nodes/l2\n"
     ]
    }
   ],
   "source": [
    "path_to_lightning = ! echo $PATH_TO_LIGHTNING\n",
    "lightning_bin_dir = ! echo $LIGHTNING_BIN_DIR\n",
    "\n",
    "# if \"list index out of range\", make sure you set where your nodes and lightning bins are\n",
    "path_to_lightning = path_to_lightning[0]\n",
    "lightning_bin_dir = lightning_bin_dir[0]\n",
    "\n",
    "l1 = f'{lightning_bin_dir}/lightning-cli --lightning-dir={path_to_lightning}/l1'\n",
    "l2 = f'{lightning_bin_dir}/lightning-cli --lightning-dir={path_to_lightning}/l2'\n",
    "\n",
    "print(\"l1's lightning-cli is: \", l1)\n",
    "print(\"l2's lightning-cli is: \", l2)\n"
   ]
  },
  {
   "cell_type": "markdown",
   "id": "9c939fe3-7d0e-4c46-b9f9-75f91f4707f5",
   "metadata": {},
   "source": [
    "## Swapping \n",
    "\n",
    "\"most important component of the Cashu system\"\n",
    "\n",
    "We will mint one 2 sat token, and then swap it for 2 1 sat tokens."
   ]
  },
  {
   "cell_type": "markdown",
   "id": "dc05eae5-b963-4210-aa0c-1a66a73fa876",
   "metadata": {},
   "source": [
    "## Mint\n",
    "\n",
    "see [mint_melt.ipynb](./mint_melt.ipynb)"
   ]
  },
  {
   "cell_type": "code",
   "execution_count": 14,
   "id": "fec5188e-545d-4e8b-ba2d-56e267c96cf7",
   "metadata": {},
   "outputs": [],
   "source": [
    "import json\n",
    "from coincurve import PrivateKey, PublicKey\n",
    "from random import randint\n",
    "from lib import construct_inputs, generate_blinded_messages"
   ]
  },
  {
   "cell_type": "code",
   "execution_count": 15,
   "id": "0cfb84cf-e99d-47f3-8fb3-9b249a2d6e45",
   "metadata": {},
   "outputs": [],
   "source": [
    "pubkeys = !$l1 cashu-get-keys | jq -r .keysets[0].keys\n",
    "pubkeys = json.loads(''.join(pubkeys))\n",
    "privkeys = !$l1 cashu-dev-get-privkeys\n",
    "privkeys = json.loads(''.join(privkeys))"
   ]
  },
  {
   "cell_type": "code",
   "execution_count": 16,
   "id": "32318674-410d-40a5-8eeb-d104b7eaad90",
   "metadata": {},
   "outputs": [
    {
     "name": "stdout",
     "output_type": "stream",
     "text": [
      "quoteId: 2916c5f364b57bbc\n",
      "bolt11:  lnbcrt20n1pj64u0dsp5w6jl4y2fdy07q48mp2wwa0sh0cyehghwras52l5ajxmp7mdrgjgqpp5dhjjgzrm9vapp5fhrcltj2vwhf6jjcz8l6q94j5wacsz93pl9hzqdqsg9hzq6twwehkjcm9xqyjw5qcqp2fp4p3lphkc0hkn2mya2dhhq7zegshxexaqqe3gt0sy3fgtnqmwgrkkfs9qx3qysgq3k0klxc7w8h2yzu5p08wq9tkwv6p8ytt7964k8w8xj2erpy38lcysr0j7arx6t7chx3tlyky8p0gnehwvzpapj3taem2y0844t6u5aqqsfjqpj\n"
     ]
    }
   ],
   "source": [
    "mint_quote = !$l1 -k cashu-quote-mint amount=2 unit=\"sat\" | jq -r \n",
    "mint_quote = json.loads(''.join(mint_quote))\n",
    "\n",
    "# quote is the unique id for this exchange\n",
    "mint_id = mint_quote[\"quote\"]\n",
    "# `request` is a lightning invoice\n",
    "mint_invoice = mint_quote[\"request\"]\n",
    "\n",
    "print(\"quoteId:\", mint_id)\n",
    "print(\"bolt11: \", mint_invoice)"
   ]
  },
  {
   "cell_type": "code",
   "execution_count": 17,
   "id": "00922068-6b66-49b2-acf1-772fa3ad5179",
   "metadata": {},
   "outputs": [
    {
     "name": "stdout",
     "output_type": "stream",
     "text": [
      "MINT INVOICE STATUS: ['complete']\n"
     ]
    }
   ],
   "source": [
    "mint_invoice_status = !$l2 pay \"$mint_invoice\" | jq -r .status\n",
    "print (\"MINT INVOICE STATUS:\", mint_invoice_status)"
   ]
  },
  {
   "cell_type": "code",
   "execution_count": 18,
   "id": "1bc564a6-3d3c-4188-b64b-85bdb422f8e7",
   "metadata": {},
   "outputs": [
    {
     "data": {
      "text/plain": [
       "'[{\"amount\": 2, \"B_\": \"023dfa3e837abad7cf417cc760826dab5924d2428b58996c0f3b3801d54f0f91ad\"}]'"
      ]
     },
     "execution_count": 18,
     "metadata": {},
     "output_type": "execute_result"
    }
   ],
   "source": [
    "secrets = [str(randint(0, 10000)) for _ in range(1)]\n",
    "amounts = [2]\n",
    "b_messages, rs = generate_blinded_messages(secrets, amounts)\n",
    "\n",
    "json.dumps(b_messages)"
   ]
  },
  {
   "cell_type": "markdown",
   "id": "854e4582-f805-4127-bfae-7d7d4d2388b9",
   "metadata": {},
   "source": [
    "### Mint token"
   ]
  },
  {
   "cell_type": "code",
   "execution_count": 20,
   "id": "ca4c1210-83a2-42ad-bf64-3d9ba15d327a",
   "metadata": {},
   "outputs": [
    {
     "name": "stdout",
     "output_type": "stream",
     "text": [
      "[{'amount': 2, 'id': '00f775c2e5e81aa3', 'C_': '02a2cc31e0b7c3c59d942ce2941c02609fdac54da9e5ff9d341ef466ca1f150333'}]\n"
     ]
    }
   ],
   "source": [
    "# lightning-cli -k cashu-mint quote=<str> blinded_messages=<List[blinded_messages]>\n",
    "mint_command = f'{l1} -k cashu-mint quote=\\'{mint_id}\\' blinded_messages=\\'{json.dumps(b_messages)}\\''\n",
    "blinded_sigs = !$mint_command\n",
    "blinded_sigs = json.loads(''.join(blinded_sigs))\n",
    "\n",
    "# blinded_sigs should be a list\n",
    "if isinstance(blinded_sigs, dict):\n",
    "    raise AssertionError(\"{}\".format(blinded_sigs))\n",
    "else:\n",
    "    print(blinded_sigs)"
   ]
  },
  {
   "cell_type": "markdown",
   "id": "55e2636f-2252-4a2e-8014-6d652f743e06",
   "metadata": {},
   "source": [
    "### Generate new blinded messages to swap\n"
   ]
  },
  {
   "cell_type": "code",
   "execution_count": 21,
   "id": "d3cb3792-a93e-4495-941b-0954df226ed9",
   "metadata": {},
   "outputs": [
    {
     "data": {
      "text/plain": [
       "'[{\"amount\": 2, \"C\": \"030f5f32a90d057488242954d76f39f20dc2abea5724a9de8ee8f2fa7f899ade79\", \"id\": \"00f775c2e5e81aa3\", \"secret\": \"7800\"}]'"
      ]
     },
     "execution_count": 21,
     "metadata": {},
     "output_type": "execute_result"
    }
   ],
   "source": [
    "swap_secrets = [str(randint(0, 10000)) for _ in range(2)]\n",
    "swap_amounts = [1, 1]\n",
    "swap_b_messages, swap_rs = generate_blinded_messages(swap_secrets, swap_amounts)\n",
    "\n",
    "inputs = construct_inputs(blinded_sigs,rs, secrets, pubkeys, privkeys)\n",
    "inputs"
   ]
  },
  {
   "cell_type": "code",
   "execution_count": 22,
   "id": "d9461d42-aa94-409f-9f57-187adb4aca05",
   "metadata": {},
   "outputs": [
    {
     "name": "stdout",
     "output_type": "stream",
     "text": [
      "[\n",
      "   {\n",
      "      \"amount\": 1,\n",
      "      \"id\": \"00f775c2e5e81aa3\",\n",
      "      \"C_\": \"02be2f66739af75338e71e4761a9395128751433f93dbd7bb07fa0ac4b75355736\"\n",
      "   },\n",
      "   {\n",
      "      \"amount\": 1,\n",
      "      \"id\": \"00f775c2e5e81aa3\",\n",
      "      \"C_\": \"022437dee8a0739654d83e1fa650dab0e52be6a200fa4243f95c2f3c6e67c72e4f\"\n",
      "   }\n",
      "]\n"
     ]
    }
   ],
   "source": [
    "swap_command = f'{l1} -k cashu-swap inputs=\\'{inputs}\\' outputs=\\'{json.dumps(swap_b_messages)}\\''\n",
    "!$swap_command"
   ]
  }
 ],
 "metadata": {
  "kernelspec": {
   "display_name": "Python 3 (ipykernel)",
   "language": "python",
   "name": "python3"
  },
  "language_info": {
   "codemirror_mode": {
    "name": "ipython",
    "version": 3
   },
   "file_extension": ".py",
   "mimetype": "text/x-python",
   "name": "python",
   "nbconvert_exporter": "python",
   "pygments_lexer": "ipython3",
   "version": "3.11.6"
  }
 },
 "nbformat": 4,
 "nbformat_minor": 5
}
