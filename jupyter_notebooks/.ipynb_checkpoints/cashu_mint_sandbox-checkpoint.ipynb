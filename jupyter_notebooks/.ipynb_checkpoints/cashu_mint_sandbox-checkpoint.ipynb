{
 "cells": [
  {
   "cell_type": "markdown",
   "id": "57dc0fd4-f148-44fd-a418-95d82ffb6599",
   "metadata": {},
   "source": [
    "# Cashu Mints\n",
    "\n",
    "6 NUTS to implement. \n",
    "\n",
    "Things to do:\n",
    "\n",
    "- [ ] Generate pubkeys from a seed\n",
    "    - different pubkeys for different amounts??\n",
    "    - only one active key set\n",
    "- [ ] Signing of tokens\n",
    "- [ ] Verify tokens\n",
    "- [ ] Calculate keyset Ids\n",
    "- [ ] make it so that wallet can request to mint\n",
    "        - store hash with invoice for lookup later\n",
    "- [ ] mint tokens\n",
    "    - verify `BlindedMessage`s\n",
    "    - create promises\n",
    "- [ ] melt tokens - when a token is spent we need to invalidate it\n",
    "- [ ] split tokens - when a request to split is made, invalidate previous tokens and calculate value of new one\n",
    "    "
   ]
  }
 ],
 "metadata": {
  "kernelspec": {
   "display_name": "Python 3 (ipykernel)",
   "language": "python",
   "name": "python3"
  },
  "language_info": {
   "codemirror_mode": {
    "name": "ipython",
    "version": 3
   },
   "file_extension": ".py",
   "mimetype": "text/x-python",
   "name": "python",
   "nbconvert_exporter": "python",
   "pygments_lexer": "ipython3",
   "version": "3.10.12"
  }
 },
 "nbformat": 4,
 "nbformat_minor": 5
}
