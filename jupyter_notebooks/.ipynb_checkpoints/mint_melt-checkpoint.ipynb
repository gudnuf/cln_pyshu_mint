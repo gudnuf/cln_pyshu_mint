{
 "cells": [
  {
   "cell_type": "code",
   "execution_count": 2,
   "id": "1f5145f7-3dba-4350-9765-04ab8da6085f",
   "metadata": {},
   "outputs": [
    {
     "name": "stdout",
     "output_type": "stream",
     "text": [
      "l1's lightning-cli is:  /nix/store/0bq00qd0scchy6vasjpqxqg53aijcca3-clightning-v23.11rc1/bin/lightning-cli --lightning-dir=/home/gudnuf/cashu/pyshu_mint/.lightning_nodes/l1\n",
      "l2's lightning-cli is:  /nix/store/0bq00qd0scchy6vasjpqxqg53aijcca3-clightning-v23.11rc1/bin/lightning-cli --lightning-dir=/home/gudnuf/cashu/pyshu_mint/.lightning_nodes/l2\n"
     ]
    }
   ],
   "source": [
    "path_to_lightning = ! echo $PATH_TO_LIGHTNING\n",
    "lightning_bin_dir = ! echo $LIGHTNING_BIN_DIR\n",
    "\n",
    "# if \"list index out of range\", make sure you set where your nodes and lightning bins are\n",
    "path_to_lightning = path_to_lightning[0]\n",
    "lightning_bin_dir = lightning_bin_dir[0]\n",
    "\n",
    "l1 = f'{lightning_bin_dir}/lightning-cli --lightning-dir={path_to_lightning}/l1'\n",
    "l2 = f'{lightning_bin_dir}/lightning-cli --lightning-dir={path_to_lightning}/l2'\n",
    "\n",
    "print(\"l1's lightning-cli is: \", l1)\n",
    "print(\"l2's lightning-cli is: \", l2)\n"
   ]
  },
  {
   "cell_type": "code",
   "execution_count": 3,
   "id": "cf4d128a-939e-4076-9c88-e4621269541f",
   "metadata": {},
   "outputs": [],
   "source": [
    "import json\n",
    "from coincurve import PrivateKey, PublicKey\n",
    "from hashlib import sha256\n",
    "from random import randint\n",
    "from lib import generate_blinded_messages, construct_inputs"
   ]
  },
  {
   "cell_type": "code",
   "execution_count": 4,
   "id": "76989fa3-17f5-49dc-ab99-4ff8339748f5",
   "metadata": {},
   "outputs": [],
   "source": [
    "# mint 7 ecash tokens in exchange for 7 sats\n",
    "mint_amount = 7\n",
    "\n",
    "# melt 7 tokens for 7 sats\n",
    "melt_amount = 7"
   ]
  },
  {
   "cell_type": "markdown",
   "id": "458f340d-cb2d-487a-9c38-f8199ccf4e88",
   "metadata": {},
   "source": [
    "# Define Keyset"
   ]
  },
  {
   "cell_type": "code",
   "execution_count": 5,
   "id": "e9496f4e-8177-42b6-ba62-cb55af4f92ff",
   "metadata": {},
   "outputs": [],
   "source": [
    "pubkeys = !$l1 cashu-get-keys | jq -r .keysets[0].keys\n",
    "pubkeys = json.loads(''.join(pubkeys))"
   ]
  },
  {
   "cell_type": "code",
   "execution_count": 6,
   "id": "5fc5fd4e-46dc-46c9-a3cf-c361e488a1bf",
   "metadata": {
    "scrolled": true
   },
   "outputs": [],
   "source": [
    "privkeys = !$l1 cashu-dev-get-privkeys\n",
    "privkeys = json.loads(''.join(privkeys))"
   ]
  },
  {
   "cell_type": "markdown",
   "id": "da8f3ab8-f090-4077-8155-9a5d03f62684",
   "metadata": {},
   "source": [
    "# Minting and Melting Cashu Tokens\n",
    "\n",
    "The following describes the path from:\n",
    "\n",
    "    1. lightning --> ecash (**minting**)\n",
    "    2. ecash --> lightning (**melting**)"
   ]
  },
  {
   "cell_type": "markdown",
   "id": "2ecd5101-c731-4ea9-828a-1f8e63ad7632",
   "metadata": {},
   "source": [
    "## Minting\n",
    "A wallet pays a lightning invoice in exchange for signatures from a mint on blinded messages."
   ]
  },
  {
   "cell_type": "markdown",
   "id": "2f083e1f-db30-422d-9f51-bc0aef692b10",
   "metadata": {},
   "source": [
    "### 1. Wallet requests a quote to *mint*"
   ]
  },
  {
   "cell_type": "code",
   "execution_count": 7,
   "id": "c1d7c9bf-5781-4464-9536-8746519f6ae2",
   "metadata": {},
   "outputs": [
    {
     "name": "stdout",
     "output_type": "stream",
     "text": [
      "quoteId: 644e642b6da79246\n",
      "bolt11:  lnbcrt70n1pj6kz34sp5rzy3hu0z4tts0x2wslmtp6jk2aqpc3ct6swnhjf7q7m20zv0e9yqpp5e5432jfqddkspcj5zfkh2h54agpq2pv3jxu3aw76k8nnw6nkdmuqdqsg9hzq6twwehkjcm9xqyjw5qcqp2fp4pkp85cc7e3jazfkyyn7rayp056fwxrxwtp30tmrdpz9szycwg83jq9qx3qysgqnfx6kutttf3ahx29elehah8vrk9a5sdr9vnplu3g7c2cyl54mwa5tmtlh2mu5smdku987mnmkpua6d6hnqu3ndtad2uny7mh8766hjsptfdlp4\n"
     ]
    }
   ],
   "source": [
    "mint_quote = !$l1 -k cashu-quote-mint amount=$mint_amount unit=\"sat\" | jq -r \n",
    "mint_quote = json.loads(''.join(mint_quote))\n",
    "\n",
    "# quote is the unique id for this exchange\n",
    "mint_id = mint_quote[\"quote\"]\n",
    "# `request` is a lightning invoice\n",
    "mint_invoice = mint_quote[\"request\"]\n",
    "\n",
    "print(\"quoteId:\", mint_id)\n",
    "print(\"bolt11: \", mint_invoice)"
   ]
  },
  {
   "cell_type": "markdown",
   "id": "30692a5d-0410-4e44-a7a8-88f5709314b2",
   "metadata": {},
   "source": [
    "### 2. Wallet pays invoice"
   ]
  },
  {
   "cell_type": "code",
   "execution_count": 9,
   "id": "ca3579fe-db9b-48b5-ad1e-1f4a5bb6eaf7",
   "metadata": {},
   "outputs": [
    {
     "name": "stdout",
     "output_type": "stream",
     "text": [
      "{\n",
      "   \"payment_preimage\": \"82ab131c7bb841c5ffdbdfb6b74f09f844cbc37466bab087e53ad62c1b8afa3a\",\n",
      "   \"status\": \"complete\",\n",
      "   \"amount_msat\": 7000,\n",
      "   \"amount_sent_msat\": 7000,\n",
      "   \"destination\": \"02dd1023c37ed5d4e43b0754efcb73d6e457e06fd40fd43461e078b82fe360c1de\",\n",
      "   \"payment_hash\": \"cd2b1549206b6d00e254126d755e95ea0205059191b91ebbdab1e7376a766ef8\",\n",
      "   \"created_at\": 1705708086,\n",
      "   \"parts\": 1\n",
      "}\n"
     ]
    }
   ],
   "source": [
    "!$l2 pay \"$mint_invoice\""
   ]
  },
  {
   "cell_type": "markdown",
   "id": "4a699040-8d14-4cf2-aa15-71e526975c31",
   "metadata": {},
   "source": [
    "### 3. Check mint status\n",
    "\n",
    "Once paid is set to `true` the wallet can request the tokens"
   ]
  },
  {
   "cell_type": "code",
   "execution_count": 10,
   "id": "e22f95b9-1edf-446c-a09e-b532ff0651ec",
   "metadata": {},
   "outputs": [
    {
     "name": "stdout",
     "output_type": "stream",
     "text": [
      "{\n",
      "   \"quote\": \"644e642b6da79246\",\n",
      "   \"request\": \"lnbcrt70n1pj6kz34sp5rzy3hu0z4tts0x2wslmtp6jk2aqpc3ct6swnhjf7q7m20zv0e9yqpp5e5432jfqddkspcj5zfkh2h54agpq2pv3jxu3aw76k8nnw6nkdmuqdqsg9hzq6twwehkjcm9xqyjw5qcqp2fp4pkp85cc7e3jazfkyyn7rayp056fwxrxwtp30tmrdpz9szycwg83jq9qx3qysgqnfx6kutttf3ahx29elehah8vrk9a5sdr9vnplu3g7c2cyl54mwa5tmtlh2mu5smdku987mnmkpua6d6hnqu3ndtad2uny7mh8766hjsptfdlp4\",\n",
      "   \"paid\": true,\n",
      "   \"expiry\": 1706312885\n",
      "}\n"
     ]
    }
   ],
   "source": [
    "!$l1 cashu-check-mint \"$mint_id\""
   ]
  },
  {
   "cell_type": "markdown",
   "id": "6c8075af-42e8-4c37-ab6d-0157269830d2",
   "metadata": {},
   "source": [
    "### 4. Wallet requests tokens from mint\n",
    "- wallet must first generate blinded messages from tokens they want"
   ]
  },
  {
   "cell_type": "code",
   "execution_count": 12,
   "id": "5e60f292-3122-4bef-852b-0f63dacea6f9",
   "metadata": {},
   "outputs": [
    {
     "data": {
      "text/plain": [
       "[{'amount': 1,\n",
       "  'B_': '0354ba26440789a34fd99a837c0dcd0cc5fb97f92c9712a99fc91ffd9b7fe92a0c'},\n",
       " {'amount': 2,\n",
       "  'B_': '028f00beefb2a1ddd382d12ac22167f8fcbb07e5bacd4ae78f0b6eba876ed0c67a'},\n",
       " {'amount': 4,\n",
       "  'B_': '024e0a4ee26ba1a133996a35415277ad5e5ed6d9f9852a37c33a8be80cf9022f62'}]"
      ]
     },
     "execution_count": 12,
     "metadata": {},
     "output_type": "execute_result"
    }
   ],
   "source": [
    "secrets = [str(randint(0,10000)) for _ in range(3)]\n",
    "amounts = [1, 2, 4]\n",
    "b_messages, rs = generate_blinded_messages(secrets, amounts)\n",
    "b_messages"
   ]
  },
  {
   "cell_type": "markdown",
   "id": "29d27136-11d2-47ce-89cb-9926cb8d8ff5",
   "metadata": {},
   "source": [
    "#### 4b. wallet sends blinded msgs for  blinded sigs"
   ]
  },
  {
   "cell_type": "code",
   "execution_count": 13,
   "id": "db887ece-e3bf-469f-9cbf-46f28ebddc43",
   "metadata": {},
   "outputs": [
    {
     "name": "stdout",
     "output_type": "stream",
     "text": [
      "[{'amount': 1, 'id': '00f775c2e5e81aa3', 'C_': '034240ed38890977894201c810e2c81c7ec9309daf8a2c66abb5c20818068476be'}, {'amount': 2, 'id': '00f775c2e5e81aa3', 'C_': '030e4653f753b075f30326bf3a6e6196b789b4f98182507fcd6ab5734aad779571'}, {'amount': 4, 'id': '00f775c2e5e81aa3', 'C_': '0251895402e3f7787f276802b220910263ad85a50da8d8b3a4d2650db41780dfaf'}]\n"
     ]
    }
   ],
   "source": [
    "# lightning-cli -k cashu-mint quote=<str> blinded_messages=<List[BlindedMessages]>\n",
    "mint_command = f'{l1} -k cashu-mint quote=\\'{mint_id}\\' blinded_messages=\\'{json.dumps(b_messages)}\\''\n",
    "blinded_sigs = !$mint_command\n",
    "blinded_sigs = json.loads(''.join(blinded_sigs))\n",
    "\n",
    "# blinded_sigs should be a list\n",
    "if isinstance(blinded_sigs, dict):\n",
    "    raise AssertionError(\"{}\".format(blinded_sigs))\n",
    "else:\n",
    "    print(blinded_sigs)"
   ]
  },
  {
   "cell_type": "markdown",
   "id": "8582fdef-c0a9-4866-b7d0-3f18903f6e5d",
   "metadata": {},
   "source": [
    "## Melting"
   ]
  },
  {
   "cell_type": "markdown",
   "id": "a25348c3-dcc1-4ec3-9ff2-3133c8ad5a62",
   "metadata": {},
   "source": [
    "### 5. Wallet generates and invoice for mint to pay\n",
    "- in this case `l2` will be the wallet"
   ]
  },
  {
   "cell_type": "code",
   "execution_count": 15,
   "id": "bdf9b538-ec27-40de-8e9f-0fcde86661c7",
   "metadata": {},
   "outputs": [],
   "source": [
    "get_invoice_command = f'{l2} invoice {mint_amount * 1000} {str(randint(1, 10000000))} \\'a description\\''\n",
    "l2_melt_invoice = !$get_invoice_command\n",
    "l2_melt_invoice = json.loads(''.join(l2_melt_invoice)).get('bolt11')"
   ]
  },
  {
   "cell_type": "markdown",
   "id": "2e33a43c-2fef-4079-98fb-a6e57c9afe0a",
   "metadata": {},
   "source": [
    "### 6. Wallet requests a quote to *melt*"
   ]
  },
  {
   "cell_type": "code",
   "execution_count": 16,
   "id": "9414f1a9-6008-4636-bdaa-bf5c07e59490",
   "metadata": {},
   "outputs": [
    {
     "data": {
      "text/plain": [
       "['{',\n",
       " '   \"quote\": \"ff13d546910f7790\",',\n",
       " '   \"amount\": \"7msat\",',\n",
       " '   \"fee_reserve\": 0,',\n",
       " '   \"paid\": false,',\n",
       " '   \"expiry\": 0',\n",
       " '}']"
      ]
     },
     "execution_count": 16,
     "metadata": {},
     "output_type": "execute_result"
    }
   ],
   "source": [
    "melt_quote_command = f'{l1} -k cashu-quote-melt req={l2_melt_invoice} unit=\"sat\"'\n",
    "melt_quote = !$melt_quote_command\n",
    "melt_quote_id = json.loads(''.join(melt_quote)).get(\"quote\")\n",
    "melt_quote"
   ]
  },
  {
   "cell_type": "markdown",
   "id": "551eb20f-c5e0-4b9a-8dba-48035290e921",
   "metadata": {},
   "source": [
    "### 7. Wallet sends tokens for the mint to melt"
   ]
  },
  {
   "cell_type": "code",
   "execution_count": 17,
   "id": "b8bd9bd5-5320-4f0b-849a-d9afb35c73d8",
   "metadata": {},
   "outputs": [
    {
     "data": {
      "text/plain": [
       "'[{\"amount\": 1, \"C\": \"03f7bb50befcf22bea3764864732a64241b7d6f2728cb5b31ce40de96f08b82cad\", \"id\": \"00f775c2e5e81aa3\", \"secret\": \"8357\"}, {\"amount\": 2, \"C\": \"02ba7f495635d5de2e2262ba155ced0058ad6199ce5d1409c998905cff78b3a17f\", \"id\": \"00f775c2e5e81aa3\", \"secret\": \"1347\"}, {\"amount\": 4, \"C\": \"0242c6a40ae52d76464b34bd4ea82cc2e5de306ec286ccd7f127943e9ca39131cb\", \"id\": \"00f775c2e5e81aa3\", \"secret\": \"2143\"}]'"
      ]
     },
     "execution_count": 17,
     "metadata": {},
     "output_type": "execute_result"
    }
   ],
   "source": [
    "outputs = blinded_sigs\n",
    "inputs = construct_inputs(outputs, rs, secrets, pubkeys, privkeys)\n",
    "inputs"
   ]
  },
  {
   "cell_type": "code",
   "execution_count": 18,
   "id": "4e8452cf-969c-4569-9133-e7ead260979d",
   "metadata": {},
   "outputs": [
    {
     "name": "stdout",
     "output_type": "stream",
     "text": [
      "{\n",
      "   \"paid\": true,\n",
      "   \"preimage\": \"9248c5231a0107678b31a3d36314828feb942d698ff7a7099af7cd2a7e4f61fe\"\n",
      "}\n"
     ]
    }
   ],
   "source": [
    "# lightning-cli -k cashu-melt quote=<str> inputs=<List[Proof]>\n",
    "melt_command = f'{l1} -k cashu-melt quote={melt_quote_id} inputs=\\'{inputs}\\''\n",
    "!$melt_command"
   ]
  },
  {
   "cell_type": "markdown",
   "id": "50a25d9e-ac49-44a0-a3d2-ab9055802133",
   "metadata": {},
   "source": [
    "### 6. Check melt status"
   ]
  },
  {
   "cell_type": "code",
   "execution_count": 19,
   "id": "adad0d16-7ba0-4702-95ae-07d54fd053f1",
   "metadata": {},
   "outputs": [
    {
     "name": "stdout",
     "output_type": "stream",
     "text": [
      "{\n",
      "   \"quote\": \"ff13d546910f7790\",\n",
      "   \"amount\": \"7msat\",\n",
      "   \"fee_reserve\": 0,\n",
      "   \"paid\": true,\n",
      "   \"expiry\": 0\n",
      "}\n"
     ]
    }
   ],
   "source": [
    "!$l1 cashu-check-melt $melt_quote_id"
   ]
  }
 ],
 "metadata": {
  "kernelspec": {
   "display_name": "Python 3 (ipykernel)",
   "language": "python",
   "name": "python3"
  },
  "language_info": {
   "codemirror_mode": {
    "name": "ipython",
    "version": 3
   },
   "file_extension": ".py",
   "mimetype": "text/x-python",
   "name": "python",
   "nbconvert_exporter": "python",
   "pygments_lexer": "ipython3",
   "version": "3.11.6"
  }
 },
 "nbformat": 4,
 "nbformat_minor": 5
}
