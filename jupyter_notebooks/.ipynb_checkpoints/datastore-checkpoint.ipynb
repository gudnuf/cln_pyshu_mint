{
 "cells": [
  {
   "cell_type": "code",
   "execution_count": 45,
   "id": "7c7cdbe9-c42a-45c3-a09a-b651799f2b01",
   "metadata": {},
   "outputs": [
    {
     "name": "stdout",
     "output_type": "stream",
     "text": [
      "The lightning-cli command you are using is:  /nix/store/0bq00qd0scchy6vasjpqxqg53aijcca3-clightning-v23.11rc1/bin/lightning-cli --lightning-dir=/home/gudnuf/cashu/pyshu_mint/.lightning_nodes/l1\n"
     ]
    }
   ],
   "source": [
    "path_to_lightning = ! echo $PATH_TO_LIGHTNING\n",
    "lightning_bin_dir = ! echo $LIGHTNING_BIN_DIR\n",
    "\n",
    "# if \"list index out of range\", make sure you set where your nodes and lightning bins are\n",
    "path_to_lightning = path_to_lightning[0]\n",
    "lightning_bin_dir = lightning_bin_dir[0]\n",
    "\n",
    "l1 = f'{lightning_bin_dir}/lightning-cli --lightning-dir={path_to_lightning}/l1'\n",
    "print(\"The lightning-cli command you are using is: \", l1)"
   ]
  },
  {
   "cell_type": "markdown",
   "id": "6d154a71-f55d-48e4-b46e-6293ec9b1d96",
   "metadata": {},
   "source": [
    "# How I think I'm supposed to use `datastore` rpc command"
   ]
  },
  {
   "cell_type": "markdown",
   "id": "5916c6c0-b694-44d8-b477-adaf64aee837",
   "metadata": {},
   "source": [
    "### Marking a quote ID as issued\n",
    "\n",
    "We must keep track of all quotes that tokens have been issued for."
   ]
  },
  {
   "cell_type": "code",
   "execution_count": 49,
   "id": "28e71ebe-2009-4402-87de-7bc25cf5653b",
   "metadata": {},
   "outputs": [
    {
     "name": "stdout",
     "output_type": "stream",
     "text": [
      "{\n",
      "   \"key\": [\n",
      "      \"cashu\",\n",
      "      \"issued_tokens\",\n",
      "      \"quoteId\"\n",
      "   ],\n",
      "   \"generation\": 0,\n",
      "   \"hex\": \"\",\n",
      "   \"string\": \"\"\n",
      "}\n"
     ]
    }
   ],
   "source": [
    "quote_id = \"quoteId\"\n",
    "\n",
    "# lightning-cli datastore '[\"cashu\", \"issued_tokens\", \"quoteID\"]' \"\"\n",
    "command = f'{l1} datastore \\'[\"cashu\", \"issued_tokens\", \"{quote_id}\"]\\' \"\"'\n",
    "!$command"
   ]
  },
  {
   "cell_type": "markdown",
   "id": "bfab27bf-b593-4e3a-8398-872b9ca4a01b",
   "metadata": {},
   "source": [
    "### Now we can check if tokens have been issued"
   ]
  },
  {
   "cell_type": "code",
   "execution_count": 50,
   "id": "91903b63-b2a4-4732-a264-3edb8bc444a6",
   "metadata": {},
   "outputs": [
    {
     "name": "stdout",
     "output_type": "stream",
     "text": [
      "{\n",
      "   \"datastore\": [\n",
      "      {\n",
      "         \"key\": [\n",
      "            \"cashu\",\n",
      "            \"issued_tokens\",\n",
      "            \"quoteId\"\n",
      "         ],\n",
      "         \"generation\": 0,\n",
      "         \"hex\": \"\",\n",
      "         \"string\": \"\"\n",
      "      }\n",
      "   ]\n",
      "}\n"
     ]
    }
   ],
   "source": [
    "# lightning-cli listdatastore '[\"cashu\", \"issued_tokens\", \"quoteId\"]'\n",
    "command = f'{l1} listdatastore \\'[\"cashu\", \"issued_tokens\", \"{quote_id}\"]\\''\n",
    "!$command"
   ]
  },
  {
   "cell_type": "markdown",
   "id": "ed93cf95-b9e5-431f-b301-5f4e7d476fe4",
   "metadata": {},
   "source": [
    "We can do a similar things with `spent_secrets`"
   ]
  }
 ],
 "metadata": {
  "kernelspec": {
   "display_name": "Python 3 (ipykernel)",
   "language": "python",
   "name": "python3"
  },
  "language_info": {
   "codemirror_mode": {
    "name": "ipython",
    "version": 3
   },
   "file_extension": ".py",
   "mimetype": "text/x-python",
   "name": "python",
   "nbconvert_exporter": "python",
   "pygments_lexer": "ipython3",
   "version": "3.11.6"
  }
 },
 "nbformat": 4,
 "nbformat_minor": 5
}
