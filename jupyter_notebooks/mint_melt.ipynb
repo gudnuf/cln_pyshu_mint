{
 "cells": [
  {
   "cell_type": "code",
   "execution_count": 1,
   "id": "1f5145f7-3dba-4350-9765-04ab8da6085f",
   "metadata": {},
   "outputs": [
    {
     "name": "stdout",
     "output_type": "stream",
     "text": [
      "l1's lightning-cli is:  /nix/store/0bq00qd0scchy6vasjpqxqg53aijcca3-clightning-v23.11rc1/bin/lightning-cli --lightning-dir=/home/gudnuf/cashu/pyshu_mint/.lightning_nodes/l1\n",
      "l2's lightning-cli is:  /nix/store/0bq00qd0scchy6vasjpqxqg53aijcca3-clightning-v23.11rc1/bin/lightning-cli --lightning-dir=/home/gudnuf/cashu/pyshu_mint/.lightning_nodes/l2\n"
     ]
    }
   ],
   "source": [
    "path_to_lightning = ! echo $PATH_TO_LIGHTNING\n",
    "lightning_bin_dir = ! echo $LIGHTNING_BIN_DIR\n",
    "\n",
    "# if \"list index out of range\", make sure you set where your nodes and lightning bins are\n",
    "path_to_lightning = path_to_lightning[0]\n",
    "lightning_bin_dir = lightning_bin_dir[0]\n",
    "\n",
    "l1 = f'{lightning_bin_dir}/lightning-cli --lightning-dir={path_to_lightning}/l1'\n",
    "l2 = f'{lightning_bin_dir}/lightning-cli --lightning-dir={path_to_lightning}/l2'\n",
    "\n",
    "print(\"l1's lightning-cli is: \", l1)\n",
    "print(\"l2's lightning-cli is: \", l2)\n"
   ]
  },
  {
   "cell_type": "code",
   "execution_count": 2,
   "id": "cf4d128a-939e-4076-9c88-e4621269541f",
   "metadata": {},
   "outputs": [],
   "source": [
    "import json\n",
    "from coincurve import PrivateKey, PublicKey\n",
    "from hashlib import sha256\n",
    "from random import randint\n",
    "from lib import generate_blinded_messages, construct_inputs"
   ]
  },
  {
   "cell_type": "code",
   "execution_count": 3,
   "id": "76989fa3-17f5-49dc-ab99-4ff8339748f5",
   "metadata": {},
   "outputs": [],
   "source": [
    "# l1 = \"/usr/local/bin/lightning-cli --lightning-dir=/tmp/l1\"\n",
    "# l2 = \"/usr/local/bin/lightning-cli --lightning-dir=/tmp/l2\"\n",
    "\n",
    "# mint 7 ecash tokens in exchange for 7 sats\n",
    "mint_amount = 7\n",
    "\n",
    "# melt 7 tokens for 7 sats\n",
    "melt_amount = 7"
   ]
  },
  {
   "cell_type": "markdown",
   "id": "458f340d-cb2d-487a-9c38-f8199ccf4e88",
   "metadata": {},
   "source": [
    "# Define Keyset"
   ]
  },
  {
   "cell_type": "code",
   "execution_count": 4,
   "id": "e9496f4e-8177-42b6-ba62-cb55af4f92ff",
   "metadata": {},
   "outputs": [],
   "source": [
    "pubkeys = !$l1 cashu-get-keys | jq -r .keysets[0].keys\n",
    "pubkeys = json.loads(''.join(pubkeys))"
   ]
  },
  {
   "cell_type": "code",
   "execution_count": 5,
   "id": "5fc5fd4e-46dc-46c9-a3cf-c361e488a1bf",
   "metadata": {
    "scrolled": true
   },
   "outputs": [],
   "source": [
    "privkeys = !$l1 cashu-dev-get-privkeys\n",
    "privkeys = json.loads(''.join(privkeys))"
   ]
  },
  {
   "cell_type": "markdown",
   "id": "da8f3ab8-f090-4077-8155-9a5d03f62684",
   "metadata": {},
   "source": [
    "# Minting and Melting Cashu Tokens\n",
    "\n",
    "The following describes the path from:\n",
    "\n",
    "    1. lightning --> ecash (**minting**)\n",
    "    2. ecash --> lightning (**melting**)"
   ]
  },
  {
   "cell_type": "markdown",
   "id": "2ecd5101-c731-4ea9-828a-1f8e63ad7632",
   "metadata": {},
   "source": [
    "## Minting\n",
    "A wallet pays a lightning invoice in exchange for signatures from a mint on blinded messages."
   ]
  },
  {
   "cell_type": "markdown",
   "id": "2f083e1f-db30-422d-9f51-bc0aef692b10",
   "metadata": {},
   "source": [
    "### 1. Wallet requests a quote to *mint*"
   ]
  },
  {
   "cell_type": "code",
   "execution_count": 6,
   "id": "c1d7c9bf-5781-4464-9536-8746519f6ae2",
   "metadata": {},
   "outputs": [
    {
     "name": "stdout",
     "output_type": "stream",
     "text": [
      "quoteId: 1a0909732f848817\n",
      "bolt11:  lnbcrt70n1pj64u27sp56h36j20qzmez92jjzv34lkueuyglfs0956tmm4wk4welq9pwtdaqpp5ygdv25thaz2h5t2x658qn6lnm49sl0erxwf4sc6cul9ez69hzfcsdqsg9hzq6twwehkjcm9xqyjw5qcqp2fp4prldfmug5jngu8e9gqzs6ycs5pspvj7e0e5ajx0mvpjqy9dpqhnqq9qx3qysgqu09cdnzhq6xrz2s4uk64vc93mzh34ze0zv8m8475wulur0ek2usnyxe9qusl93pdn44qxd8wpq2c4qy6enl83ptj6av8fxqny844yqqqxqr3yh\n"
     ]
    }
   ],
   "source": [
    "mint_quote = !$l1 -k cashu-quote-mint amount=$mint_amount unit=\"sat\" | jq -r \n",
    "mint_quote = json.loads(''.join(mint_quote))\n",
    "\n",
    "# quote is the unique id for this exchange\n",
    "mint_id = mint_quote[\"quote\"]\n",
    "# `request` is a lightning invoice\n",
    "mint_invoice = mint_quote[\"request\"]\n",
    "\n",
    "print(\"quoteId:\", mint_id)\n",
    "print(\"bolt11: \", mint_invoice)"
   ]
  },
  {
   "cell_type": "markdown",
   "id": "30692a5d-0410-4e44-a7a8-88f5709314b2",
   "metadata": {},
   "source": [
    "### 2. Wallet pays invoice"
   ]
  },
  {
   "cell_type": "code",
   "execution_count": 7,
   "id": "ca3579fe-db9b-48b5-ad1e-1f4a5bb6eaf7",
   "metadata": {},
   "outputs": [
    {
     "name": "stdout",
     "output_type": "stream",
     "text": [
      "complete\n"
     ]
    }
   ],
   "source": [
    "!$l2 pay \"$mint_invoice\" | jq -r .status"
   ]
  },
  {
   "cell_type": "markdown",
   "id": "4a699040-8d14-4cf2-aa15-71e526975c31",
   "metadata": {},
   "source": [
    "### 3. Check mint status"
   ]
  },
  {
   "cell_type": "code",
   "execution_count": 8,
   "id": "e22f95b9-1edf-446c-a09e-b532ff0651ec",
   "metadata": {},
   "outputs": [
    {
     "name": "stdout",
     "output_type": "stream",
     "text": [
      "{\n",
      "   \"quote\": \"1a0909732f848817\",\n",
      "   \"request\": \"lnbcrt70n1pj64u27sp56h36j20qzmez92jjzv34lkueuyglfs0956tmm4wk4welq9pwtdaqpp5ygdv25thaz2h5t2x658qn6lnm49sl0erxwf4sc6cul9ez69hzfcsdqsg9hzq6twwehkjcm9xqyjw5qcqp2fp4prldfmug5jngu8e9gqzs6ycs5pspvj7e0e5ajx0mvpjqy9dpqhnqq9qx3qysgqu09cdnzhq6xrz2s4uk64vc93mzh34ze0zv8m8475wulur0ek2usnyxe9qusl93pdn44qxd8wpq2c4qy6enl83ptj6av8fxqny844yqqqxqr3yh\",\n",
      "   \"paid\": true,\n",
      "   \"expiry\": 1706306526\n",
      "}\n"
     ]
    }
   ],
   "source": [
    "!$l1 cashu-check-mint \"$mint_id\""
   ]
  },
  {
   "cell_type": "markdown",
   "id": "6c8075af-42e8-4c37-ab6d-0157269830d2",
   "metadata": {},
   "source": [
    "### 4. Wallet requests tokens from mint\n",
    "- wallet must first generate blinded messages from tokens they want"
   ]
  },
  {
   "cell_type": "code",
   "execution_count": 9,
   "id": "5e60f292-3122-4bef-852b-0f63dacea6f9",
   "metadata": {},
   "outputs": [],
   "source": [
    "secrets = [str(randint(0,10000)) for _ in range(3)]\n",
    "amounts = [1, 2, 4]\n",
    "b_messages, rs = generate_blinded_messages(secrets, amounts)"
   ]
  },
  {
   "cell_type": "markdown",
   "id": "29d27136-11d2-47ce-89cb-9926cb8d8ff5",
   "metadata": {},
   "source": [
    "#### 4b. wallet sends blinded msgs for  blinded sigs"
   ]
  },
  {
   "cell_type": "code",
   "execution_count": 10,
   "id": "db887ece-e3bf-469f-9cbf-46f28ebddc43",
   "metadata": {},
   "outputs": [
    {
     "name": "stdout",
     "output_type": "stream",
     "text": [
      "[{'amount': 1, 'id': '00f775c2e5e81aa3', 'C_': '023ed5d8381efb00ba05b9e01e609708d2855b216626235f66c368d31e29d619a8'}, {'amount': 2, 'id': '00f775c2e5e81aa3', 'C_': '021d807ca675b341ab51b0b0a1b2f242c946a4bc3d452bbff6c6579e7c8391a971'}, {'amount': 4, 'id': '00f775c2e5e81aa3', 'C_': '0216570cde9f0a293f6957ef4d567241cca5e66c8dcefd242b9fbf58d7f8f63302'}]\n"
     ]
    }
   ],
   "source": [
    "# lightning-cli -k cashu-mint quote=<str> blinded_messages=<List[blinded_messages]>\n",
    "mint_command = f'{l1} -k cashu-mint quote=\\'{mint_id}\\' blinded_messages=\\'{json.dumps(b_messages)}\\''\n",
    "blinded_sigs = !$mint_command\n",
    "blinded_sigs = json.loads(''.join(blinded_sigs))\n",
    "\n",
    "# blinded_sigs should be a list\n",
    "if isinstance(blinded_sigs, dict):\n",
    "    raise AssertionError(\"{}\".format(blinded_sigs))\n",
    "else:\n",
    "    print(blinded_sigs)"
   ]
  },
  {
   "cell_type": "markdown",
   "id": "8582fdef-c0a9-4866-b7d0-3f18903f6e5d",
   "metadata": {},
   "source": [
    "## Melting"
   ]
  },
  {
   "cell_type": "markdown",
   "id": "a25348c3-dcc1-4ec3-9ff2-3133c8ad5a62",
   "metadata": {},
   "source": [
    "### 5. Wallet generates and invoice for mint to pay\n",
    "- in this case `l2` will be the wallet"
   ]
  },
  {
   "cell_type": "code",
   "execution_count": 11,
   "id": "bdf9b538-ec27-40de-8e9f-0fcde86661c7",
   "metadata": {},
   "outputs": [
    {
     "data": {
      "text/plain": [
       "'lnbcrt70n1pj64u2lsp5cy2k4fx4vp0gv7mfh2n66g8ptfech9ydnm5u02nym2jxnynxtaqqpp5mamyraf2fej9wxjysh6vzv2p445udl39j8tc2xttc8x4m4h3pf3qdq4vysxgetnvdexjur5d9hkuxqyjw5qcqp2fp4puyqfcm5ww7zepv4dlvyp3l3xrsuf8lk4edken0e20m0h7mjylmcq9qx3qysgqtfvlgsf39yj97cksh9pt9hlp0j2tqnhwx32eqflqcwnrg62r2dlq8rjcxfa6mwhftxdd3pgu42yvlkumxe83fc5sh662plv5fa9a5gsptlxejm'"
      ]
     },
     "execution_count": 11,
     "metadata": {},
     "output_type": "execute_result"
    }
   ],
   "source": [
    "get_invoice_command = f'{l2} invoice {mint_amount * 1000} {str(randint(1, 10000000))} \\'a description\\''\n",
    "l2_melt_invoice = !$get_invoice_command\n",
    "l2_melt_invoice = json.loads(''.join(l2_melt_invoice)).get('bolt11')\n",
    "l2_melt_invoice"
   ]
  },
  {
   "cell_type": "markdown",
   "id": "2e33a43c-2fef-4079-98fb-a6e57c9afe0a",
   "metadata": {},
   "source": [
    "### 6. Wallet requests a quote to *melt*"
   ]
  },
  {
   "cell_type": "code",
   "execution_count": 12,
   "id": "9414f1a9-6008-4636-bdaa-bf5c07e59490",
   "metadata": {},
   "outputs": [
    {
     "data": {
      "text/plain": [
       "['{',\n",
       " '   \"quote\": \"b26a02b0c698307b\",',\n",
       " '   \"amount\": \"7msat\",',\n",
       " '   \"fee_reserve\": 0,',\n",
       " '   \"paid\": false,',\n",
       " '   \"expiry\": 0',\n",
       " '}']"
      ]
     },
     "execution_count": 12,
     "metadata": {},
     "output_type": "execute_result"
    }
   ],
   "source": [
    "melt_quote_command = f'{l1} -k cashu-quote-melt req={l2_melt_invoice} unit=\"sat\"'\n",
    "melt_quote = !$melt_quote_command\n",
    "melt_quote_id = json.loads(''.join(melt_quote)).get(\"quote\")\n",
    "melt_quote"
   ]
  },
  {
   "cell_type": "markdown",
   "id": "551eb20f-c5e0-4b9a-8dba-48035290e921",
   "metadata": {},
   "source": [
    "### 7. Wallet sends tokens for the mint to melt"
   ]
  },
  {
   "cell_type": "code",
   "execution_count": 13,
   "id": "b8bd9bd5-5320-4f0b-849a-d9afb35c73d8",
   "metadata": {},
   "outputs": [
    {
     "data": {
      "text/plain": [
       "'[{\"amount\": 1, \"C\": \"0371235aca7bd012f8039f8af7b274d7987a2b98255f1997ab4d06c9137995b9fc\", \"id\": \"00f775c2e5e81aa3\", \"secret\": \"5733\"}, {\"amount\": 2, \"C\": \"0217b804e2c93cf74bb2ee1b8a223013db0019c77437782899fe0ff42978c34846\", \"id\": \"00f775c2e5e81aa3\", \"secret\": \"4302\"}, {\"amount\": 4, \"C\": \"025f16748933dbd366ed3c13abdd1f9961a0b7581d69fce7b6b37b7e252cd9ab91\", \"id\": \"00f775c2e5e81aa3\", \"secret\": \"9987\"}]'"
      ]
     },
     "execution_count": 13,
     "metadata": {},
     "output_type": "execute_result"
    }
   ],
   "source": [
    "outputs = blinded_sigs\n",
    "inputs = construct_inputs(outputs, rs, secrets, pubkeys, privkeys)\n",
    "inputs\n"
   ]
  },
  {
   "cell_type": "code",
   "execution_count": 14,
   "id": "4e8452cf-969c-4569-9133-e7ead260979d",
   "metadata": {},
   "outputs": [
    {
     "name": "stdout",
     "output_type": "stream",
     "text": [
      "{\n",
      "   \"paid\": true,\n",
      "   \"preimage\": \"0be1f2e1991f71d5d7c3e795cf14e03117df34c6e3de8e22238f9c167ae31a38\"\n",
      "}\n"
     ]
    }
   ],
   "source": [
    "melt_command = f'{l1} -k cashu-melt quote={melt_quote_id} inputs=\\'{inputs}\\''\n",
    "!$melt_command\n",
    "\n"
   ]
  },
  {
   "cell_type": "markdown",
   "id": "50a25d9e-ac49-44a0-a3d2-ab9055802133",
   "metadata": {},
   "source": [
    "### 6. Check melt status"
   ]
  },
  {
   "cell_type": "code",
   "execution_count": 15,
   "id": "adad0d16-7ba0-4702-95ae-07d54fd053f1",
   "metadata": {},
   "outputs": [
    {
     "name": "stdout",
     "output_type": "stream",
     "text": [
      "{\n",
      "   \"quote\": \"b26a02b0c698307b\",\n",
      "   \"amount\": \"7msat\",\n",
      "   \"fee_reserve\": 0,\n",
      "   \"paid\": true,\n",
      "   \"expiry\": 0\n",
      "}\n"
     ]
    }
   ],
   "source": [
    "!$l1 cashu-check-melt $melt_quote_id"
   ]
  }
 ],
 "metadata": {
  "kernelspec": {
   "display_name": "Python 3 (ipykernel)",
   "language": "python",
   "name": "python3"
  },
  "language_info": {
   "codemirror_mode": {
    "name": "ipython",
    "version": 3
   },
   "file_extension": ".py",
   "mimetype": "text/x-python",
   "name": "python",
   "nbconvert_exporter": "python",
   "pygments_lexer": "ipython3",
   "version": "3.11.6"
  }
 },
 "nbformat": 4,
 "nbformat_minor": 5
}
