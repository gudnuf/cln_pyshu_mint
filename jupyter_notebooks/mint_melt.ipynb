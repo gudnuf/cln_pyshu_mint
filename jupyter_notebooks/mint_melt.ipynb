{
 "cells": [
  {
   "cell_type": "code",
   "execution_count": 163,
   "id": "cf4d128a-939e-4076-9c88-e4621269541f",
   "metadata": {},
   "outputs": [],
   "source": [
    "import json\n",
    "from coincurve import PrivateKey, PublicKey\n",
    "from hashlib import sha256\n",
    "\n",
    "def hash_to_curve(x_bytes):\n",
    "    # Hash the secret using SHA-256\n",
    "    hash_value = sha256(x_bytes).digest()\n",
    "    # Create a public key Y from the hashed secret\n",
    "    Y = PublicKey.from_secret(hash_value)\n",
    "    return Y\n",
    "\n",
    "def subtract_points(pt1: PublicKey, pt2:  PublicKey):\n",
    "    p = 115792089237316195423570985008687907853269984665640564039457584007908834671663\n",
    "    x2, y2 = pt2.point()\n",
    "    neg_pt2 = PublicKey.from_point(x2, (p - y2) % p)\n",
    "    difference = PublicKey.combine_keys([pt1, neg_pt2])\n",
    "    return difference\n"
   ]
  },
  {
   "cell_type": "code",
   "execution_count": 164,
   "id": "76989fa3-17f5-49dc-ab99-4ff8339748f5",
   "metadata": {},
   "outputs": [],
   "source": [
    "l1 = \"/usr/local/bin/lightning-cli --lightning-dir=/tmp/l1\"\n",
    "l2 = \"/usr/local/bin/lightning-cli --lightning-dir=/tmp/l2\"\n",
    "\n",
    "# mint 7 ecash tokens in exchange for 7 sats\n",
    "mint_amount = 7\n",
    "\n",
    "# melt 7 tokens for 7 sats\n",
    "melt_amount = 7"
   ]
  },
  {
   "cell_type": "markdown",
   "id": "458f340d-cb2d-487a-9c38-f8199ccf4e88",
   "metadata": {},
   "source": [
    "# Define Keyset"
   ]
  },
  {
   "cell_type": "code",
   "execution_count": 194,
   "id": "e9496f4e-8177-42b6-ba62-cb55af4f92ff",
   "metadata": {},
   "outputs": [
    {
     "data": {
      "text/plain": [
       "{'1': '02b53a33e8b70644d83e5700b2dfa45b7fd7bb1ed597a6f4f2408e79d2ed316cef',\n",
       " '2': '034c307cfa8736158e2bb0435153f805e7d6d6ec95249eee32f31effe4fef87e24',\n",
       " '4': '02837b0c27e0e1c00934925031e10c41e7a2b926eb1b6e8d5846024b64b16964cc',\n",
       " '8': '0232eaf6f41725360b28ba5242243616099dce2f17aaf5fa7241bb4015d6461495',\n",
       " '16': '031b06e936ace0e0e449a5eeabcb0dc39a11b72650142cc653d008dce482004178',\n",
       " '32': '03053d1a6e05e1e12537129dad7c983cc1845279f3051df7d37956cdb09d633f29',\n",
       " '64': '02f81334344f31fe0b919bd9fa40e4a5b0b4e4d4dbd017cdf6dbe66d1fbfae1975',\n",
       " '128': '02ee1a9c0b7018150ff71ce3f2207011f034a6a5a81d40f2066105254993b4b305'}"
      ]
     },
     "execution_count": 194,
     "metadata": {},
     "output_type": "execute_result"
    }
   ],
   "source": [
    "pubkeys = !$l1 cashu-get-keys | jq -r .keysets[0].keys\n",
    "pubkeys = json.loads(''.join(pubkeys))\n",
    "pubkeys"
   ]
  },
  {
   "cell_type": "code",
   "execution_count": 195,
   "id": "5fc5fd4e-46dc-46c9-a3cf-c361e488a1bf",
   "metadata": {},
   "outputs": [
    {
     "data": {
      "text/plain": [
       "{'1': '78196135e2121c6750e0d3ed7669cc43a83107d79dbfbb253c069292ec83c59a',\n",
       " '2': '62d469a41ab8e82cb95dce66a8562f8a241d9f8c1c9dbaac41829d46d1856bb7',\n",
       " '4': '3375381bb41a9cb1b1a47d78d37e4a703332af50ef4d1661a8892ba3f0e42f8c',\n",
       " '8': '5c47dc806dac67518dd8355dc1c2b29daf73a88195913b5b1b8e5bf319d40ae7',\n",
       " '16': '2f8cae4671fadfec38df2d8afa2b57b5303c5035488e23d373b2bb96139b9992',\n",
       " '32': '226d7f6783a73927ece9009124589aaf107ea0edafb9f4c7c5358301b54e7888',\n",
       " '64': '52e4b9328d26a927e0473e806f52fa058027c649f9bfee45f8ed13c585892fcd',\n",
       " '128': '2207ce69cd468de1790ad1c8a5c9516ac6f6068067bf00b1e4545e134bb70fb8'}"
      ]
     },
     "execution_count": 195,
     "metadata": {},
     "output_type": "execute_result"
    }
   ],
   "source": [
    "privkeys = !$l1 cashu-dev-get-privkeys\n",
    "privkeys = json.loads(''.join(privkeys))\n",
    "privkeys"
   ]
  },
  {
   "cell_type": "markdown",
   "id": "da8f3ab8-f090-4077-8155-9a5d03f62684",
   "metadata": {},
   "source": [
    "# Minting and Melting Cashu Tokens\n",
    "\n",
    "The following describes the path from:\n",
    "\n",
    "    1. lightning --> ecash (**minting**)\n",
    "    2. ecash --> lightning (**melting**)"
   ]
  },
  {
   "cell_type": "markdown",
   "id": "2ecd5101-c731-4ea9-828a-1f8e63ad7632",
   "metadata": {},
   "source": [
    "## Minting\n",
    "A wallet pays a lightning invoice in exchange for signatures from a mint on blinded messages."
   ]
  },
  {
   "cell_type": "markdown",
   "id": "2f083e1f-db30-422d-9f51-bc0aef692b10",
   "metadata": {},
   "source": [
    "### 1. Wallet requests a quote to *mint*"
   ]
  },
  {
   "cell_type": "code",
   "execution_count": 286,
   "id": "c1d7c9bf-5781-4464-9536-8746519f6ae2",
   "metadata": {},
   "outputs": [
    {
     "name": "stdout",
     "output_type": "stream",
     "text": [
      "quoteId: a2d0d00a058e8861\n",
      "bolt11:  lnbcrt70n1pjeuvemsp559t02vpswnjdpgx5a9j59zaf5gldr63wka5rp2yt67t2k0c040sqpp5243q8zpykr7qf22lzrds437ft2fnkfghynsfaad0u42c6dtctfqqdqsg9hzq6twwehkjcm9xqyjw5qcqp29qx3qysgq3xd5vqspqewanl573lsrehwelw2ch8zwdj52zpkxruzn9rj3zxjj30algdfq6ye9h7svcjdrcadtn92yq0cc6dw75v5umm4hr920v8gp3kf388\n"
     ]
    }
   ],
   "source": [
    "mint_quote = !$l1 -k cashu-quote-mint amount=$mint_amount unit=\"sat\" | jq -r \n",
    "mint_quote = json.loads(''.join(mint_quote))\n",
    "\n",
    "# quote is the unique id for this exchange\n",
    "mint_id = mint_quote[\"quote\"]\n",
    "# `request` is a lightning invoice\n",
    "mint_invoice = mint_quote[\"request\"]\n",
    "\n",
    "print(\"quoteId:\", mint_id)\n",
    "print(\"bolt11: \", mint_invoice)"
   ]
  },
  {
   "cell_type": "markdown",
   "id": "30692a5d-0410-4e44-a7a8-88f5709314b2",
   "metadata": {},
   "source": [
    "### 2. Wallet pays invoice"
   ]
  },
  {
   "cell_type": "code",
   "execution_count": 288,
   "id": "ca3579fe-db9b-48b5-ad1e-1f4a5bb6eaf7",
   "metadata": {},
   "outputs": [
    {
     "name": "stdout",
     "output_type": "stream",
     "text": [
      "complete\n"
     ]
    }
   ],
   "source": [
    "!$l2 pay \"$mint_invoice\" | jq -r .status"
   ]
  },
  {
   "cell_type": "markdown",
   "id": "4a699040-8d14-4cf2-aa15-71e526975c31",
   "metadata": {},
   "source": [
    "### 3. Check mint status"
   ]
  },
  {
   "cell_type": "code",
   "execution_count": 289,
   "id": "e22f95b9-1edf-446c-a09e-b532ff0651ec",
   "metadata": {},
   "outputs": [
    {
     "name": "stdout",
     "output_type": "stream",
     "text": [
      "{\n",
      "   \"quote\": \"a2d0d00a058e8861\",\n",
      "   \"request\": \"lnbcrt70n1pjeuvemsp559t02vpswnjdpgx5a9j59zaf5gldr63wka5rp2yt67t2k0c040sqpp5243q8zpykr7qf22lzrds437ft2fnkfghynsfaad0u42c6dtctfqqdqsg9hzq6twwehkjcm9xqyjw5qcqp29qx3qysgq3xd5vqspqewanl573lsrehwelw2ch8zwdj52zpkxruzn9rj3zxjj30algdfq6ye9h7svcjdrcadtn92yq0cc6dw75v5umm4hr920v8gp3kf388\",\n",
      "   \"paid\": true,\n",
      "   \"expiry\": 1705471419\n",
      "}\n"
     ]
    }
   ],
   "source": [
    "!$l1 cashu-check-mint \"$mint_id\""
   ]
  },
  {
   "cell_type": "markdown",
   "id": "6c8075af-42e8-4c37-ab6d-0157269830d2",
   "metadata": {},
   "source": [
    "### 4. Wallet requests tokens from mint\n",
    "- wallet must first generate blinded messages from tokens they want"
   ]
  },
  {
   "cell_type": "code",
   "execution_count": 199,
   "id": "87839531-94bb-40d8-ad6e-c7c1348d4b0b",
   "metadata": {},
   "outputs": [],
   "source": [
    "def generate_blinded_messages(secrets, amounts):\n",
    "    assert len(secrets) == len(amounts)\n",
    "    BlindedMessages =  []\n",
    "    rs = []\n",
    "    for s, amount in zip(secrets, amounts):\n",
    "        # r is a random blinding factor\n",
    "        r = PrivateKey()\n",
    "        R = r.public_key\n",
    "        #Y = hash_to_curve(x)\n",
    "        Y = hash_to_curve(s.encode())\n",
    "        # B_ = Y + rG\n",
    "        B_ = PublicKey.combine_keys([Y, R]).format().hex()\n",
    "        BlindedMessages.append({\"amount\": amount, \"B_\": B_})\n",
    "        rs.append(r.secret)\n",
    "    return BlindedMessages, rs"
   ]
  },
  {
   "cell_type": "code",
   "execution_count": 200,
   "id": "5e60f292-3122-4bef-852b-0f63dacea6f9",
   "metadata": {},
   "outputs": [
    {
     "data": {
      "text/plain": [
       "'[{\"amount\": 1, \"B_\": \"026c623866ee41bb02c0035f56d4cae8c53258456ccb87b4af0ffdc7d3f9d50ad7\"}, {\"amount\": 2, \"B_\": \"03589779f4e561d4d515e3517a041b541e49816d2ab5a67e28a38978bb16f3bd83\"}, {\"amount\": 4, \"B_\": \"028c3be6fcae07b2c752ebd5d8c7f7b0ac2571e325381f0ed951db8811813ac5bb\"}]'"
      ]
     },
     "execution_count": 200,
     "metadata": {},
     "output_type": "execute_result"
    }
   ],
   "source": [
    "secrets = ['1', '2', '4']\n",
    "amounts = [1, 2, 4]\n",
    "b_messages, rs = generate_blinded_messages(secrets, amounts)\n",
    "\n",
    "json.dumps(b_messages)"
   ]
  },
  {
   "cell_type": "markdown",
   "id": "29d27136-11d2-47ce-89cb-9926cb8d8ff5",
   "metadata": {},
   "source": [
    "#### 4b. wallet sends blinded msgs for  blinded sigs"
   ]
  },
  {
   "cell_type": "code",
   "execution_count": 206,
   "id": "bdaac291-65a5-47e8-ba4f-199378fac26c",
   "metadata": {},
   "outputs": [
    {
     "data": {
      "text/plain": [
       "[{'amount': 1,\n",
       "  'id': '00b2f181c83b11aa',\n",
       "  'C_': '039604586168ae53b3ed8e970357ddfb7f6b2d61f21deda521a1035a0b7ce2122a'},\n",
       " {'amount': 2,\n",
       "  'id': '00b2f181c83b11aa',\n",
       "  'C_': '03d54cf69a08531c0810ecfd7e528622b655c9b7827d224ca2fc593a70b940bc6f'},\n",
       " {'amount': 4,\n",
       "  'id': '00b2f181c83b11aa',\n",
       "  'C_': '0251cc7b574f54271e28f60c11152aaa4bb95b3226330017d4142ff8cd65c6ad2f'}]"
      ]
     },
     "execution_count": 206,
     "metadata": {},
     "output_type": "execute_result"
    }
   ],
   "source": [
    "blinded_sigs = ! /usr/local/bin/lightning-cli --lightning-dir=/tmp/l1 -k cashu-mint quote=e59c370eba4cd7d1 blinded_messages='[{\"amount\": 1, \"B_\": \"026c623866ee41bb02c0035f56d4cae8c53258456ccb87b4af0ffdc7d3f9d50ad7\"}, {\"amount\": 2, \"B_\": \"03589779f4e561d4d515e3517a041b541e49816d2ab5a67e28a38978bb16f3bd83\"}, {\"amount\": 4, \"B_\": \"028c3be6fcae07b2c752ebd5d8c7f7b0ac2571e325381f0ed951db8811813ac5bb\"}]'\n",
    "blinded_sigs = json.loads(''.join(blinded_sigs))\n",
    "blinded_sigs"
   ]
  },
  {
   "cell_type": "markdown",
   "id": "8582fdef-c0a9-4866-b7d0-3f18903f6e5d",
   "metadata": {},
   "source": [
    "## Melting"
   ]
  },
  {
   "cell_type": "markdown",
   "id": "a25348c3-dcc1-4ec3-9ff2-3133c8ad5a62",
   "metadata": {},
   "source": [
    "### 5. Wallet generates and invoice for mint to pay\n",
    "- in this case `l2` will be the wallet"
   ]
  },
  {
   "cell_type": "code",
   "execution_count": 273,
   "id": "b21fd590-e4fe-43f9-9f61-eb21cab901ce",
   "metadata": {},
   "outputs": [
    {
     "data": {
      "text/plain": [
       "'lnbcrt70n1pjeuvtpsp55pp9hwwk4wkwcdng379u939a8c70jtp4k73kudmaj6q6q8gh5xgqpp54rm33j6a88szxj6x683s98v9rdutkrv2q9wxdm0nlfqt93zjnprsdqjv3jhxcmjd9c8g6t0dcxqyjw5qcqp29qx3qysgqy4a88tcerettxy5rnh6r87qlclfrd7r8yd5uxkqae52wf79c0adky7wkxkuekz5a8ux8m6efctme5mht4kw6yrp4jkv5kfequ5lyepcqmsfkr7'"
      ]
     },
     "execution_count": 273,
     "metadata": {},
     "output_type": "execute_result"
    }
   ],
   "source": [
    "melt_invoice = ! /usr/local/bin/lightning-cli --lightning-dir=/tmp/l2 invoice 7000 $RANDOM description  | jq -r .'bolt11'\n",
    "melt_invoice = melt_invoice[0]\n",
    "melt_invoice"
   ]
  },
  {
   "cell_type": "markdown",
   "id": "2e33a43c-2fef-4079-98fb-a6e57c9afe0a",
   "metadata": {},
   "source": [
    "### 6. Wallet requests a quote to *melt*"
   ]
  },
  {
   "cell_type": "code",
   "execution_count": 274,
   "id": "8481b236-380d-44e8-b96b-cbcb123b28eb",
   "metadata": {},
   "outputs": [
    {
     "data": {
      "text/plain": [
       "'3fd66d28ce34d954'"
      ]
     },
     "execution_count": 274,
     "metadata": {},
     "output_type": "execute_result"
    }
   ],
   "source": [
    "melt_quote = !$l1 -k cashu-quote-melt req=$melt_invoice unit=\"sat\" | jq -r .'quote'\n",
    "melt_quote = melt_quote[0]\n",
    "melt_quote"
   ]
  },
  {
   "cell_type": "markdown",
   "id": "551eb20f-c5e0-4b9a-8dba-48035290e921",
   "metadata": {},
   "source": [
    "### 7. Wallet sends tokens for the mint to melt"
   ]
  },
  {
   "cell_type": "code",
   "execution_count": 280,
   "id": "c81fdd98-8267-4347-a54f-5b36637d0c5d",
   "metadata": {},
   "outputs": [],
   "source": [
    "def verify_token(C, secret_bytes, k: str):\n",
    "    # k*hash_to_curve(x) == C\n",
    "    Y = hash_to_curve(secret_bytes)\n",
    "    kY = Y.multiply(bytes.fromhex(k))\n",
    "    return kY.format().hex() == C\n",
    "\n",
    "def construct_token(C_: PublicKey, K: bytes, r: str):\n",
    "    rK = PublicKey(K).multiply(r)\n",
    "    # C = C_ - rK\n",
    "    C = subtract_points(C_, rK)\n",
    "    return C.format().hex()\n",
    "\n",
    "def construct_inputs(blinded_sigs, rs, secrets):\n",
    "    inputs = []\n",
    "    for output, r, s in zip(blinded_sigs, rs, secrets):\n",
    "        amount = output[\"amount\"]\n",
    "        # K is the public key for this token value\n",
    "        K = bytes.fromhex(pubkeys.get(str(amount)))\n",
    "        # C_ is blinded signature\n",
    "        C_ = PublicKey(bytes.fromhex(output[\"C_\"]))\n",
    "        # C is unblinded signature\n",
    "        C = construct_token(C_, K, r)\n",
    "        assert verify_token(C, s.encode(), privkeys.get(str(amount)))\n",
    "        inputs.append({\n",
    "            \"amount\": amount,\n",
    "            \"C\": C,\n",
    "            \"id\": output[\"id\"],\n",
    "            \"secret\": s\n",
    "        })\n",
    "    return json.dumps(inputs)\n",
    "    \n"
   ]
  },
  {
   "cell_type": "code",
   "execution_count": 281,
   "id": "b8bd9bd5-5320-4f0b-849a-d9afb35c73d8",
   "metadata": {},
   "outputs": [
    {
     "data": {
      "text/plain": [
       "'[{\"amount\": 1, \"C\": \"02114511fb00338ea95280db720c63ae119c68c03941df3a61223ed95e76ff9574\", \"id\": \"00b2f181c83b11aa\", \"secret\": \"1\"}, {\"amount\": 2, \"C\": \"02853da76d8dedbbcece373e312007cc3bb92711380c03a0ca96c56f427a0a50e0\", \"id\": \"00b2f181c83b11aa\", \"secret\": \"2\"}, {\"amount\": 4, \"C\": \"02e78ba0328f6947671a7964bbc1a433231f36c86090f8203ef9a6ea81869e8b6b\", \"id\": \"00b2f181c83b11aa\", \"secret\": \"4\"}]'"
      ]
     },
     "execution_count": 281,
     "metadata": {},
     "output_type": "execute_result"
    }
   ],
   "source": [
    "outputs = blinded_sigs\n",
    "construct_inputs(outputs, rs, secrets)\n"
   ]
  },
  {
   "cell_type": "code",
   "execution_count": 277,
   "id": "4e8452cf-969c-4569-9133-e7ead260979d",
   "metadata": {},
   "outputs": [
    {
     "name": "stdout",
     "output_type": "stream",
     "text": [
      "{\n",
      "   \"paid\": true,\n",
      "   \"preimage\": \"a0f3c06d1533df0cf8d849cbff228cb95b85205851731640d535d375fbda03b7\"\n",
      "}\n"
     ]
    }
   ],
   "source": [
    "!/usr/local/bin/lightning-cli --lightning-dir=/tmp/l1 -k cashu-melt quote=3fd66d28ce34d954 inputs='[{\"amount\": 1, \"C\": \"02114511fb00338ea95280db720c63ae119c68c03941df3a61223ed95e76ff9574\", \"id\": \"00b2f181c83b11aa\", \"secret\": \"1\"}, {\"amount\": 2, \"C\": \"02853da76d8dedbbcece373e312007cc3bb92711380c03a0ca96c56f427a0a50e0\", \"id\": \"00b2f181c83b11aa\", \"secret\": \"2\"}, {\"amount\": 4, \"C\": \"02e78ba0328f6947671a7964bbc1a433231f36c86090f8203ef9a6ea81869e8b6b\", \"id\": \"00b2f181c83b11aa\", \"secret\": \"4\"}]'"
   ]
  },
  {
   "cell_type": "markdown",
   "id": "50a25d9e-ac49-44a0-a3d2-ab9055802133",
   "metadata": {},
   "source": [
    "### 6. Check melt status"
   ]
  },
  {
   "cell_type": "code",
   "execution_count": 279,
   "id": "adad0d16-7ba0-4702-95ae-07d54fd053f1",
   "metadata": {},
   "outputs": [
    {
     "name": "stdout",
     "output_type": "stream",
     "text": [
      "{\n",
      "   \"quote\": \"3fd66d28ce34d954\",\n",
      "   \"amount\": \"7msat\",\n",
      "   \"fee_reserve\": 0,\n",
      "   \"paid\": true,\n",
      "   \"expiry\": 0\n",
      "}\n"
     ]
    }
   ],
   "source": [
    "!$l1 cashu-check-melt 3fd66d28ce34d954"
   ]
  },
  {
   "cell_type": "code",
   "execution_count": null,
   "id": "628b3c4a-2f35-48f8-8b3d-1ab17c832dbe",
   "metadata": {},
   "outputs": [],
   "source": []
  }
 ],
 "metadata": {
  "kernelspec": {
   "display_name": "Python 3 (ipykernel)",
   "language": "python",
   "name": "python3"
  },
  "language_info": {
   "codemirror_mode": {
    "name": "ipython",
    "version": 3
   },
   "file_extension": ".py",
   "mimetype": "text/x-python",
   "name": "python",
   "nbconvert_exporter": "python",
   "pygments_lexer": "ipython3",
   "version": "3.10.12"
  }
 },
 "nbformat": 4,
 "nbformat_minor": 5
}
