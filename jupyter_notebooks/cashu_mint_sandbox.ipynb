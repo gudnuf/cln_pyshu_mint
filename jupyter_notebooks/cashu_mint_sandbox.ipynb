{
 "cells": [
  {
   "cell_type": "code",
   "execution_count": 1,
   "id": "90c26fc3-1fd4-4631-8dfe-7746aa03d38e",
   "metadata": {},
   "outputs": [],
   "source": [
    "from typing import List, Dict"
   ]
  },
  {
   "cell_type": "markdown",
   "id": "57dc0fd4-f148-44fd-a418-95d82ffb6599",
   "metadata": {},
   "source": [
    "# Cashu Mints\n",
    "\n",
    "6 NUTS to implement. \n",
    "\n",
    "Things to do:\n",
    "\n",
    "- [x] Generate pubkeys from a seed\n",
    "    - different pubkeys for different amounts??\n",
    "    - only one active key set\n",
    "- [ ] Signing of tokens\n",
    "- [ ] Verify tokens\n",
    "- [x] Calculate keyset Ids\n",
    "- [ ] make it so that wallet can request to mint\n",
    "        - store hash with invoice for lookup later\n",
    "- [ ] mint tokens\n",
    "    - verify `BlindedMessage`s\n",
    "    - create promises\n",
    "- [ ] melt tokens - when a token is spent we need to invalidate it\n",
    "- [ ] split tokens - when a request to split is made, invalidate previous tokens and calculate value of new one\n",
    "    "
   ]
  },
  {
   "cell_type": "markdown",
   "id": "06eed4a0-80a4-4eec-a278-7aab34adcbb4",
   "metadata": {},
   "source": [
    "## [Generating a Keyset](https://github.com/cashubtc/nuts/blob/main/02.md#mints-generating-a-keyset)\n",
    "\n",
    "```python\n",
    "for i in range(MAX_ORDER):\n",
    "\tk_i = HASH_SHA256(s + D + i)[:32]\n",
    " ```\n",
    "\n",
    "`s` - seed\n",
    "\n",
    "`k_i` - priv key\n",
    "\n",
    "`i` - index of amount value\n",
    "\n",
    "`MAX_ORDER` - max token values supported \n",
    "   - Typically, `MAX_ORDER = 64`\n",
    "\n",
    "`D` - derivation path"
   ]
  },
  {
   "cell_type": "markdown",
   "id": "35570240-0f4a-41be-8ff9-5879fe1fb98b",
   "metadata": {},
   "source": [
    "Check this out: https://github.com/cashubtc/nutshell/blob/main/cashu/core/crypto/keys.py#L18C1-L18C1 "
   ]
  },
  {
   "cell_type": "code",
   "execution_count": 74,
   "id": "ece45f3b-f209-402d-9e3c-8fe6fe622800",
   "metadata": {},
   "outputs": [],
   "source": [
    "from hashlib import sha256\n",
    "from coincurve import PrivateKey\n",
    "\n",
    "def generate_private_keyset(seed, MAX_ORDER, derivation_path):\n",
    "    to_hash = [(seed + derivation_path + str(i)).encode() for i in range(MAX_ORDER)]\n",
    "    return {\n",
    "        2 ** idx: PrivateKey(\n",
    "            sha256(to_hash).digest()[:32]\n",
    "        )\n",
    "        for idx, to_hash in enumerate(to_hash)\n",
    "    }"
   ]
  },
  {
   "cell_type": "code",
   "execution_count": 77,
   "id": "585019d0-f49d-4b72-ab8b-afe979901960",
   "metadata": {
    "scrolled": true
   },
   "outputs": [
    {
     "data": {
      "text/plain": [
       "{1: <coincurve.keys.PrivateKey at 0x7fd9ad3837d0>,\n",
       " 2: <coincurve.keys.PrivateKey at 0x7fd9ad384690>,\n",
       " 4: <coincurve.keys.PrivateKey at 0x7fd9ad384910>,\n",
       " 8: <coincurve.keys.PrivateKey at 0x7fd9ad384cd0>,\n",
       " 16: <coincurve.keys.PrivateKey at 0x7fd9ad385910>,\n",
       " 32: <coincurve.keys.PrivateKey at 0x7fd9ad3865d0>,\n",
       " 64: <coincurve.keys.PrivateKey at 0x7fd9ad385810>,\n",
       " 128: <coincurve.keys.PrivateKey at 0x7fd9ad3864d0>}"
      ]
     },
     "execution_count": 77,
     "metadata": {},
     "output_type": "execute_result"
    }
   ],
   "source": [
    "seed = \"johny_apple\"\n",
    "MAX_ORDER = 8\n",
    "derivation_path = \"/0/0/0/0\"\n",
    "    \n",
    "keys = generate_private_keyset(seed, MAX_ORDER, derivation_path)\n",
    "\n",
    "keys\n"
   ]
  },
  {
   "cell_type": "markdown",
   "id": "400bb3de-3a0b-4e22-92ac-e0ee97c43d6a",
   "metadata": {},
   "source": [
    "## [Public Keyset](https://github.com/cashubtc/nuts/blob/main/02.md#nut-02-keysets-and-keyset-id)\n",
    "A keyset is a set of public keys that the mint Bob generates and shares with its users. The mint MUST use the compressed public key format. The keyset refers to the set of public keys that each correspond to the amount values that the mint supports (e.g. 1, 2, 4, 8, ...) respectively."
   ]
  },
  {
   "cell_type": "code",
   "execution_count": 4,
   "id": "940cfcbe-c45d-48d0-84ae-3d66ae185c1c",
   "metadata": {},
   "outputs": [],
   "source": [
    "from coincurve import PublicKey\n",
    "\n",
    "def get_keyset(priv_keyset):\n",
    "    pub_keyset = {}\n",
    "    for idx, pk in priv_keyset.items():\n",
    "        from coincurve import PublicKey\n",
    "        pub_keyset[idx] = pk.public_key\n",
    "    return pub_keyset"
   ]
  },
  {
   "cell_type": "code",
   "execution_count": 5,
   "id": "b67fd38a-7c9a-405f-8f5a-ce438b6eaaad",
   "metadata": {},
   "outputs": [
    {
     "data": {
      "text/plain": [
       "{1: <coincurve.keys.PublicKey at 0x7fd9d0bf9b90>,\n",
       " 2: <coincurve.keys.PublicKey at 0x7fd9cc148a50>,\n",
       " 4: <coincurve.keys.PublicKey at 0x7fd9cc148a90>,\n",
       " 8: <coincurve.keys.PublicKey at 0x7fd9cc148bd0>,\n",
       " 16: <coincurve.keys.PublicKey at 0x7fd9cc148c90>,\n",
       " 32: <coincurve.keys.PublicKey at 0x7fd9cc148d50>,\n",
       " 64: <coincurve.keys.PublicKey at 0x7fd9cc148e10>,\n",
       " 128: <coincurve.keys.PublicKey at 0x7fd9cc148ed0>}"
      ]
     },
     "execution_count": 5,
     "metadata": {},
     "output_type": "execute_result"
    }
   ],
   "source": [
    "public_keyset = get_keyset(keys)\n",
    "public_keyset"
   ]
  },
  {
   "cell_type": "markdown",
   "id": "66894a3d-f167-43d5-b2e8-4d5c8ada12a8",
   "metadata": {},
   "source": [
    "## [Deriving Keyset ID](https://github.com/cashubtc/nuts/blob/main/02.md#keyset-id)\n",
    "\n",
    "1.  sort keyset by amount\n",
    "2.  concatenate all (sorted) public keys to one string\n",
    "3.  HASH_SHA256 the concatenated public keys\n",
    "4.  take the first 12 characters of the hash"
   ]
  },
  {
   "cell_type": "code",
   "execution_count": 6,
   "id": "a417f910-370c-4231-ae30-981a19a423e5",
   "metadata": {},
   "outputs": [],
   "source": [
    "from base64 import b64encode\n",
    "from coincurve import PublicKey\n",
    "\n",
    "def derive_keyset_id(keys: Dict[int, PublicKey]) -> str:\n",
    "    sorted_keys = dict(sorted(keys.items()))\n",
    "    pubkeys_concat = b\"\".join([p.format() for p in sorted_keys.values()])\n",
    "    return \"00\" + sha256(pubkeys_concat).hexdigest()[:14]\n",
    "\n",
    "\n",
    "def urlsafe_to_keyset_id(keyset_id_url_safe):\n",
    "    return keyset_id_url_safe.replace('_', '/').replace('+', '-')\n",
    "\n",
    "def keyset_id_to_urlsafe(keyset_id):\n",
    "    return keyset_id.replace('/', '_').replace('-', '+')\n",
    "    "
   ]
  },
  {
   "cell_type": "code",
   "execution_count": 7,
   "id": "80f48a4e-4f2c-4ec0-a5ca-583b887a77df",
   "metadata": {},
   "outputs": [
    {
     "name": "stdout",
     "output_type": "stream",
     "text": [
      "KeysetID:  00762723599b57f8\n",
      "URL Safe:  00762723599b57f8\n"
     ]
    }
   ],
   "source": [
    "keyset_id = derive_keyset_id(public_keyset)\n",
    "print(\"KeysetID: \", keyset_id)\n",
    "\n",
    "url_safe_keyset_id = keyset_id_to_urlsafe(keyset_id)\n",
    "print (\"URL Safe: \", url_safe_keyset_id)\n",
    "\n",
    "assert keyset_id == urlsafe_to_keyset_id(url_safe_keyset_id)"
   ]
  },
  {
   "cell_type": "markdown",
   "id": "f2968062-9f50-4e2a-a250-a6a282e47e66",
   "metadata": {},
   "source": [
    "## Questions\n",
    "\n",
    "- What do we use as the derivation path `D` when generating a keyset? Can it be arbitrary?\n",
    "\n",
    "- do we store each priv key? Or just the derivation path and keyset ID then generate keys each time for signing? This way we only store the seed?\n",
    "- Does the mint have one single pubkey and single prive other than masterkey??\n",
    "  - https://github.com/cashubtc/nutshell/blob/main/cashu/core/crypto/keys.py#L35\n",
    "  - https://github.com/cashubtc/nutshell/blob/main/cashu/mint/ledger.py#L58"
   ]
  },
  {
   "cell_type": "markdown",
   "id": "e2318288-6208-403f-8cb6-d4c54ccfb26b",
   "metadata": {},
   "source": [
    "# [Blind Diffie-Hellmann key exchange (BDHKE)](https://github.com/cashubtc/nuts/blob/main/00.md#blind-diffie-hellmann-key-exchange-bdhke) \n",
    "\n",
    "## Bob (mint)\n",
    "\n",
    "- `k` private key of mint (one for each amount)\n",
    "- `K` public key of mint\n",
    "- `Q` promise (blinded signature)\n",
    "\n",
    "## Alice (user)\n",
    "\n",
    "- `x` random string (secret message), corresponds to point `Y` on curve\n",
    "- `r` private key (blinding factor)\n",
    "- `T` blinded message\n",
    "- `Z` proof (unblinded signature)\n",
    "\n",
    " ---\n",
    "\n",
    "- Mint `Bob` publishes public key `K = kG` \n",
    "- `Alice` picks secret `x` and computes `Y = hash_to_curve(x)`\n",
    "- `Alice` sends to `Bob`: `B_ = Y + rG` with `r` being a random blinding factor (**blinding**)\n",
    "- `Bob` sends back to `Alice` blinded key: `C_ = kB_` (these two steps are the DH key exchange) (**signing**)\n",
    "- `Alice` can calculate the unblinded key as `C_ - rK = kY + krG - krG = kY = C` (**unblinding**)\n",
    "- Alice can take the pair `(x, C)` as a token and can send it to `Carol`.\n",
    "- `Carol` can send `(x, C)` to `Bob` who then checks that `k*hash_to_curve(x) == C` (**verification**), and if so treats it as a valid spend of a token, adding `x`  to the list of spent secrets."
   ]
  },
  {
   "cell_type": "markdown",
   "id": "509dccc3-2afb-47cc-9cab-24f40590a998",
   "metadata": {},
   "source": [
    "**Who knows what??**\n",
    "Carol: K, x, Y, B_, r, C_\n",
    "\n",
    "Bob: K, k, B_, C_\n",
    "\n",
    "**Who doesn't know what??**\n",
    "\n",
    "Carol: k\n",
    "\n",
    "Bob: x, r, Y"
   ]
  },
  {
   "cell_type": "code",
   "execution_count": 164,
   "id": "8f498d7f-9431-4529-96b9-e40c2b4572d2",
   "metadata": {},
   "outputs": [],
   "source": [
    "pubkeys = ! /nix/store/0bq00qd0scchy6vasjpqxqg53aijcca3-clightning-v23.11rc1/bin/lightning-cli --lightning-dir=/home/gudnuf/pyshu_mint/.lightning_nodes/l1 cashu-get-keys | jq -r .keysets[0].keys"
   ]
  },
  {
   "cell_type": "code",
   "execution_count": 165,
   "id": "2d277523-1402-419d-a498-4f8d0fe8c53a",
   "metadata": {},
   "outputs": [
    {
     "data": {
      "text/plain": [
       "['{',\n",
       " '  \"1\": \"02b53a33e8b70644d83e5700b2dfa45b7fd7bb1ed597a6f4f2408e79d2ed316cef\",',\n",
       " '  \"2\": \"034c307cfa8736158e2bb0435153f805e7d6d6ec95249eee32f31effe4fef87e24\",',\n",
       " '  \"4\": \"02837b0c27e0e1c00934925031e10c41e7a2b926eb1b6e8d5846024b64b16964cc\",',\n",
       " '  \"8\": \"0232eaf6f41725360b28ba5242243616099dce2f17aaf5fa7241bb4015d6461495\",',\n",
       " '  \"16\": \"031b06e936ace0e0e449a5eeabcb0dc39a11b72650142cc653d008dce482004178\",',\n",
       " '  \"32\": \"03053d1a6e05e1e12537129dad7c983cc1845279f3051df7d37956cdb09d633f29\",',\n",
       " '  \"64\": \"02f81334344f31fe0b919bd9fa40e4a5b0b4e4d4dbd017cdf6dbe66d1fbfae1975\",',\n",
       " '  \"128\": \"02ee1a9c0b7018150ff71ce3f2207011f034a6a5a81d40f2066105254993b4b305\"',\n",
       " '}']"
      ]
     },
     "execution_count": 165,
     "metadata": {},
     "output_type": "execute_result"
    }
   ],
   "source": [
    "pubkeys"
   ]
  },
  {
   "cell_type": "code",
   "execution_count": 166,
   "id": "ab84e10f-dfd6-4e74-b9ff-94b35384831b",
   "metadata": {},
   "outputs": [
    {
     "data": {
      "text/plain": [
       "['{',\n",
       " '   \"1\": \"78196135e2121c6750e0d3ed7669cc43a83107d79dbfbb253c069292ec83c59a\",',\n",
       " '   \"2\": \"62d469a41ab8e82cb95dce66a8562f8a241d9f8c1c9dbaac41829d46d1856bb7\",',\n",
       " '   \"4\": \"3375381bb41a9cb1b1a47d78d37e4a703332af50ef4d1661a8892ba3f0e42f8c\",',\n",
       " '   \"8\": \"5c47dc806dac67518dd8355dc1c2b29daf73a88195913b5b1b8e5bf319d40ae7\",',\n",
       " '   \"16\": \"2f8cae4671fadfec38df2d8afa2b57b5303c5035488e23d373b2bb96139b9992\",',\n",
       " '   \"32\": \"226d7f6783a73927ece9009124589aaf107ea0edafb9f4c7c5358301b54e7888\",',\n",
       " '   \"64\": \"52e4b9328d26a927e0473e806f52fa058027c649f9bfee45f8ed13c585892fcd\",',\n",
       " '   \"128\": \"2207ce69cd468de1790ad1c8a5c9516ac6f6068067bf00b1e4545e134bb70fb8\"',\n",
       " '}']"
      ]
     },
     "execution_count": 166,
     "metadata": {},
     "output_type": "execute_result"
    }
   ],
   "source": [
    "privkeys = !/nix/store/0bq00qd0scchy6vasjpqxqg53aijcca3-clightning-v23.11rc1/bin/lightning-cli --lightning-dir=/home/gudnuf/pyshu_mint/.lightning_nodes/l1 cashu-dev-get-privkeys\n",
    "privkeys"
   ]
  },
  {
   "cell_type": "code",
   "execution_count": 167,
   "id": "0d4e962a-bf7b-48ee-9843-3c56f167e217",
   "metadata": {},
   "outputs": [
    {
     "data": {
      "text/plain": [
       "'78196135e2121c6750e0d3ed7669cc43a83107d79dbfbb253c069292ec83c59a'"
      ]
     },
     "execution_count": 167,
     "metadata": {},
     "output_type": "execute_result"
    }
   ],
   "source": [
    "import json\n",
    "json_string = ''.join(privkeys)\n",
    "    \n",
    "# Parse the JSON string\n",
    "privkeys_dict = json.loads(json_string)\n",
    "\n",
    "# Now privkeys_dict is a Python dictionary\n",
    "# Access the private key for key \"1\"\n",
    "privkey_1 = privkeys_dict.get(\"1\", \"default_value\")\n",
    "privkey_1"
   ]
  },
  {
   "cell_type": "code",
   "execution_count": 168,
   "id": "d6aa9b4b-0853-4281-a978-0d4d2c7db908",
   "metadata": {},
   "outputs": [
    {
     "data": {
      "text/plain": [
       "'02b53a33e8b70644d83e5700b2dfa45b7fd7bb1ed597a6f4f2408e79d2ed316cef'"
      ]
     },
     "execution_count": 168,
     "metadata": {},
     "output_type": "execute_result"
    }
   ],
   "source": [
    "pub_keys_json_string = ''.join(pubkeys)\n",
    "pubkey_dict = json.loads(pub_keys_json_string)\n",
    "pubkey_1 = pubkey_dict.get(\"1\", \"default_value\")\n",
    "pubkey_1"
   ]
  },
  {
   "cell_type": "code",
   "execution_count": 145,
   "id": "8d43f016-6818-41c7-bd14-305600c6a1d1",
   "metadata": {},
   "outputs": [],
   "source": [
    "amount = 1\n",
    "k = PrivateKey().from_hex(privkey_1)\n",
    "K = k.public_key\n",
    "assert K == PublicKey(bytes.fromhex(pubkey_1))"
   ]
  },
  {
   "cell_type": "code",
   "execution_count": 146,
   "id": "51ed6aa6-9955-4541-9e76-9b6724c2da3d",
   "metadata": {},
   "outputs": [],
   "source": [
    "def hash_to_curve(x_bytes):\n",
    "    # Hash the secret using SHA-256\n",
    "    hash_value = sha256(x_bytes).digest()\n",
    "    # Create a public key Y from the hashed secret\n",
    "    Y = PublicKey.from_secret(hash_value)\n",
    "    return Y"
   ]
  },
  {
   "cell_type": "code",
   "execution_count": 147,
   "id": "e0dae06f-1edb-466d-9645-30d9d45eb6ba",
   "metadata": {},
   "outputs": [],
   "source": [
    "x_secret = b'a secret'"
   ]
  },
  {
   "cell_type": "code",
   "execution_count": 148,
   "id": "0aa059cd-5ece-4c57-b950-0d1a4a91747b",
   "metadata": {
    "scrolled": true
   },
   "outputs": [
    {
     "data": {
      "text/plain": [
       "<coincurve.keys.PublicKey at 0x7fd9ac443290>"
      ]
     },
     "execution_count": 148,
     "metadata": {},
     "output_type": "execute_result"
    }
   ],
   "source": [
    "Y = hash_to_curve(x_secret)\n",
    "Y"
   ]
  },
  {
   "cell_type": "markdown",
   "id": "11ac28a3-61d1-4293-b41a-8a93b36803e6",
   "metadata": {},
   "source": [
    "**Alice sends to Bob:** `B_ = Y + rG`"
   ]
  },
  {
   "cell_type": "code",
   "execution_count": 173,
   "id": "207ded70-0ab6-4913-8eec-41e70ee4f358",
   "metadata": {},
   "outputs": [
    {
     "data": {
      "text/plain": [
       "'034110bf4bff1838c9f79a5de86c6215b9cf0fef081f3337e40f37a016691fc302'"
      ]
     },
     "execution_count": 173,
     "metadata": {},
     "output_type": "execute_result"
    }
   ],
   "source": [
    "from coincurve import PrivateKey\n",
    "r = PrivateKey()\n",
    "R = r.public_key\n",
    "B_ = PublicKey.combine_keys([Y, R]).format().hex()\n",
    "B_"
   ]
  },
  {
   "cell_type": "markdown",
   "id": "cef31f6d-327b-4f87-b7a9-e14a79c52ebb",
   "metadata": {},
   "source": [
    "**Bob send to Alice:** `C_ = kB_`"
   ]
  },
  {
   "cell_type": "code",
   "execution_count": 175,
   "id": "8eb8b587-508c-46c5-87f2-b952009aca44",
   "metadata": {},
   "outputs": [],
   "source": [
    "# BlindedMessage: https://github.com/cashubtc/nuts/blob/main/00.md#blindedmessage  \n",
    "\n",
    "# @plugin.method(\"cashu-sign\")# TODO: add id to specify which keyset to use\n",
    "def sign(B_, k: PrivateKey): \n",
    "    # B_ = Y + rG with r being a random blinding factor (blinding)\n",
    "    # C_ = kB_ (these two steps are the DH key exchange) (signing)\n",
    "    B_bytes = bytes.fromhex(B_)\n",
    "    C_ = PublicKey(B_bytes).multiply(k.secret)\n",
    "    return C_"
   ]
  },
  {
   "cell_type": "code",
   "execution_count": 176,
   "id": "ca1a5c28-d14f-4588-9678-db45e1fab27a",
   "metadata": {},
   "outputs": [
    {
     "data": {
      "text/plain": [
       "'0258dfae0ba206103493e00860b33ab2e4ed0a85ced55837aaea9e1a1fef670972'"
      ]
     },
     "execution_count": 176,
     "metadata": {},
     "output_type": "execute_result"
    }
   ],
   "source": [
    "# priv key that corresponds to token value `1`\n",
    "C_ = sign(B_, k)\n",
    "C_.format().hex()"
   ]
  },
  {
   "cell_type": "markdown",
   "id": "86aefd16-ea22-4fff-83b7-a3fb81421c09",
   "metadata": {},
   "source": [
    "**Alice:**   `C_ - rK = kY + krG - krG = kY = C`"
   ]
  },
  {
   "cell_type": "code",
   "execution_count": 177,
   "id": "960cc2ff-6e9f-4ef9-ad72-6b0c92dac09f",
   "metadata": {},
   "outputs": [
    {
     "data": {
      "text/plain": [
       "True"
      ]
     },
     "execution_count": 177,
     "metadata": {},
     "output_type": "execute_result"
    }
   ],
   "source": [
    "# order of the finite field\n",
    "p = 115792089237316195423570985008687907853269984665640564039457584007908834671663\n",
    "\n",
    "rK = PublicKey(K.format()).multiply(r.secret)\n",
    "\n",
    "x,y = rK.point()\n",
    "neg_rK = PublicKey.from_point(x, (p - y) % p)\n",
    "\n",
    "# C = C_ - rK\n",
    "C = PublicKey.combine_keys([C_, neg_rK])\n",
    "\n",
    "# kY should equal C\n",
    "kY = Y.multiply(k.secret)\n",
    "kY == C"
   ]
  },
  {
   "cell_type": "markdown",
   "id": "d13753b3-dbbb-46c6-91c9-7cd5f6a2efa3",
   "metadata": {},
   "source": [
    "Now the token is `(x, c)`"
   ]
  },
  {
   "cell_type": "code",
   "execution_count": null,
   "id": "fa1c03f5-17ad-4752-86bc-6ab5c297b41b",
   "metadata": {},
   "outputs": [],
   "source": [
    "token = (x_secret, C)\n",
    "token"
   ]
  },
  {
   "cell_type": "markdown",
   "id": "06a6e7e5-c57d-47a4-8516-5c696bd974e9",
   "metadata": {},
   "source": [
    "Carol can now redeem with Bob.\n",
    "\n",
    "Bob verifies the token with:\n",
    "\n",
    "`k*hash_to_curve(x) == C`"
   ]
  },
  {
   "cell_type": "code",
   "execution_count": null,
   "id": "a4204d23-2044-4131-b4b5-1ba9af613915",
   "metadata": {},
   "outputs": [],
   "source": [
    "x_secret, C = token\n",
    "C == hash_to_curve(x_secret).multiply(k)"
   ]
  },
  {
   "cell_type": "markdown",
   "id": "812366d8-e066-4179-9dca-ceb198693b21",
   "metadata": {},
   "source": [
    "If valid spend the **add `x_secret` to list of spent secrets**"
   ]
  },
  {
   "cell_type": "markdown",
   "id": "24ddc41d-2518-48b2-9d17-b54df471f075",
   "metadata": {},
   "source": [
    "### Test `cashu-sign` Method"
   ]
  },
  {
   "cell_type": "code",
   "execution_count": 178,
   "id": "978bf4f1-0626-4c91-a226-74d7352b5077",
   "metadata": {},
   "outputs": [
    {
     "name": "stdout",
     "output_type": "stream",
     "text": [
      "\u001b[1;37m{\n",
      "  \u001b[0m\u001b[1;34m\"code\"\u001b[0m\u001b[1;37m: \u001b[0m\u001b[0;37m-32600\u001b[0m\u001b[1;37m,\n",
      "  \u001b[0m\u001b[1;34m\"message\"\u001b[0m\u001b[1;37m: \u001b[0m\u001b[0;32m\"Error while processing cashu-sign: 3\"\u001b[0m\u001b[1;37m,\n",
      "  \u001b[0m\u001b[1;34m\"traceback\"\u001b[0m\u001b[1;37m: \u001b[0m\u001b[0;32m\"Traceback (most recent call last):\\n  File \\\"/nix/store/z0wsv6z465la1sahm195jfl25ahzi1s1-python3.11-pyln_client-23.5.2/lib/python3.11/site-packages/pyln/client/plugin.py\\\", line 639, in _dispatch_request\\n    result = self._exec_func(method.func, request)\\n             ^^^^^^^^^^^^^^^^^^^^^^^^^^^^^^^^^^^^^\\n  File \\\"/nix/store/z0wsv6z465la1sahm195jfl25ahzi1s1-python3.11-pyln_client-23.5.2/lib/python3.11/site-packages/pyln/client/plugin.py\\\", line 619, in _exec_func\\n    ret = func(*ba.args, **ba.kwargs)\\n          ^^^^^^^^^^^^^^^^^^^^^^^^^^^\\n  File \\\"/home/gudnuf/pyshu_mint/plugin/cashu_plugin.py\\\", line 84, in sign\\n    return \\\"Unsupported amount\\\" # TODO: return a proper error\\n    ^^^^^^^^^^^^^^^^^^^^^^^^\\nKeyError: 3\\n\"\u001b[0m\u001b[1;37m\n",
      "\u001b[1;37m}\u001b[0m\n"
     ]
    }
   ],
   "source": [
    "!/nix/store/0bq00qd0scchy6vasjpqxqg53aijcca3-clightning-v23.11rc1/bin/lightning-cli --lightning-dir=/home/gudnuf/pyshu_mint/.lightning_nodes/l1 -k cashu-sign amount=3 B_=\"034110bf4bff1838c9f79a5de86c6215b9cf0fef081f3337e40f37a016691fc302\" | jq -r"
   ]
  },
  {
   "cell_type": "markdown",
   "id": "f04b576b-30f1-41dc-925d-7f3148807ba9",
   "metadata": {},
   "source": [
    "# [Requesting a Mint](https://github.com/cashubtc/nuts/blob/main/03.md)\n",
    "1. Wallet sends `GET /mint?amount=<amount_sat>`\n",
    "2. Mint responds with invoice and hash:\n",
    "\n",
    "```json\n",
    "{\n",
    "  \"pr\": \"lnbc100n1p3kdrv5sp5lpdxzghe5j67q...\",\n",
    "  \"hash\": \"67d1d9ea6ada225c115418671b64a...\"\n",
    "}\n",
    "```\n",
    "3. Wallet pays invoice\n",
    "4. Wallet requests tokens: `POST /mint?hash=<hash>` and `BlindedMessages` in request body\n",
    "5.  d\n",
    "\n",
    "#### `BlindedMessage` (outputs)\n",
    "```json\n",
    "{\n",
    "  \"amount\": int,\n",
    "  \"B_\": hex_str\n",
    "}\n",
    "```\n",
    "\n",
    "`BlindedMessages` is an array of `BlindedMessage`s\n",
    "\n",
    "**hash must be unique and stored with amount_sat**\n",
    "\n",
    "\n",
    "##### Verify `BlindedMessages`\n",
    "- `amount`s must add to a maximum of `<amount_sat>`\n",
    "   - find amouunt sat with the `hash`\n",
    "- invoice must be paid\n",
    "- `BlindedMessages` are valid\n",
    "\n",
    "#### `PostMintResponse`\n",
    "\n",
    "If request for token is valid, then mint responds with `BlindedSignature`s (`C_`)\n",
    "\n",
    "```json\n",
    "{\n",
    "\"promises\":\n",
    "  [\n",
    "    {\n",
    "    \"id\": \"DSAl9nvvyfva\",\n",
    "    \"amount\": 2,\n",
    "    \"C_\": \"03e61daa438fc7bcc53f6920ec6c8c357c24094fb04c1fc60e2606df4910b21ffb\"\n",
    "    },\n",
    "    {\n",
    "    \"id\": \"DSAl9nvvyfva\",\n",
    "    \"amount\": 8,\n",
    "    \"C_\": \"03fd4ce5a16b65576145949e6f99f445f8249fee17c606b688b504a849cdc452de\"\n",
    "    },\n",
    "  ]\n",
    "}\n",
    "```\n",
    "\n",
    "\n",
    "#### Unblinfing Signatures\n",
    "\n",
    "Once the wallet receives a response from mint, then unblind to create `Proofs`.\n",
    "\n",
    "##### `Proofs`\n",
    "```json\n",
    "{\n",
    "\"proofs\" : \n",
    "  [\n",
    "    {\n",
    "    \"id\": \"DSAl9nvvyfva\", //keyset id\n",
    "    \"amount\": 2, //token amount value\n",
    "    \"secret\": \"S+tDfc1Lfsrb06zaRdVTed6Izg\", // secret used by wallet in the signing process\n",
    "    \"C\": \"0242b0fb43804d8ba9a64ceef249ad7a60f42c15fe6d4907238b05e857527832a3\" // unblinded sig\n",
    "    },\n",
    "    {\n",
    "    ...\n",
    "    }\n",
    "  ]\n",
    "}\n",
    "```"
   ]
  },
  {
   "cell_type": "markdown",
   "id": "85deb8ff-795a-4fed-a26d-526741db72ad",
   "metadata": {},
   "source": [
    "## Questions\n",
    "- What does the mint need to store? Just the secrets that have been spent?\n",
    "    - If the mint signs a token where that secret is hidden, then the mint know that they issued the token, but there is one secret for one token, so if secret is spent thats all we need to know... right?? right??\n",
    "    - real question: one secret for one token??"
   ]
  },
  {
   "cell_type": "markdown",
   "id": "aaa7c07f-76e1-466f-8854-c71f44961101",
   "metadata": {},
   "source": [
    "# [Melting Tokens](https://github.com/cashubtc/nuts/blob/main/05.md#nut-05-melting-tokens)\n",
    "Opposite of minting\n",
    "\n",
    "1. wallet gets maximum fees `POST /fees` with ln invoice\n",
    "2. mint responds with fees\n",
    "3. wallet send `Proofs` along with a lightning invoice `POST /melt` (mint expexts `Proofs` of at least `total_amount = amount + fee_reserve`\n",
    "4. mint responds with:\n",
    "\n",
    "```json\n",
    "{\n",
    "\"paid\": true,\n",
    "\"preimage\": \"da225c115418671b64a67d1d9ea6a...\"\n",
    "}\n",
    "```\n",
    "\n",
    "Once paid, **mint should mark all secrets from tokens as spent**"
   ]
  },
  {
   "cell_type": "markdown",
   "id": "e711b0cf-2bd9-4e6c-b6a6-3de4e7ac7b52",
   "metadata": {},
   "source": [
    "# [Splitting Tokens](https://github.com/cashubtc/nuts/blob/main/06.md#nut-06-split-tokens)\n",
    "\n",
    "- Involves `Proofs` and `BlindedMessages` in the request to split\n",
    "- Mint verifies, then invalidates `Proofs` --> then issues new promises `BlindedSignatures`\n",
    "\n",
    "\n",
    "- Wallet requests split `POST /split` with `Proofs` and `BlindedMessages` in request body\n",
    "- Mint responds with `BlindedSignatures` if all good\n",
    "\n",
    "Nice function for getting split amounts https://github.com/cashubtc/nutshell/blob/main/cashu/core/split.py"
   ]
  },
  {
   "cell_type": "markdown",
   "id": "35d9b98f-b0c6-4561-b0b1-b0ae56a07409",
   "metadata": {},
   "source": [
    "# What is needed to run a mint??\n",
    "\n",
    "- ability to blind sign \n",
    "- ability to verify that I signed \n",
    "- database to keep track of things so we don't lose money and be sad\n",
    "  - spent secrets\n",
    "  - `<hash>:<amount_sat>` and maybe an invoice for the minting process??\n",
    "- API for interacting with wallets"
   ]
  },
  {
   "cell_type": "code",
   "execution_count": null,
   "id": "1a401a72-f6c2-481a-bd7c-5199ef389944",
   "metadata": {},
   "outputs": [],
   "source": []
  }
 ],
 "metadata": {
  "kernelspec": {
   "display_name": "Python 3 (ipykernel)",
   "language": "python",
   "name": "python3"
  },
  "language_info": {
   "codemirror_mode": {
    "name": "ipython",
    "version": 3
   },
   "file_extension": ".py",
   "mimetype": "text/x-python",
   "name": "python",
   "nbconvert_exporter": "python",
   "pygments_lexer": "ipython3",
   "version": "3.11.6"
  }
 },
 "nbformat": 4,
 "nbformat_minor": 5
}
