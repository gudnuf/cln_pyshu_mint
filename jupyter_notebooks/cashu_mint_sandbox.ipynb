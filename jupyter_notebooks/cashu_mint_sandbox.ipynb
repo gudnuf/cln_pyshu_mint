{
 "cells": [
  {
   "cell_type": "code",
   "execution_count": 29,
   "id": "90c26fc3-1fd4-4631-8dfe-7746aa03d38e",
   "metadata": {},
   "outputs": [],
   "source": [
    "from typing import List, Dict"
   ]
  },
  {
   "cell_type": "markdown",
   "id": "57dc0fd4-f148-44fd-a418-95d82ffb6599",
   "metadata": {},
   "source": [
    "# Cashu Mints\n",
    "\n",
    "6 NUTS to implement. \n",
    "\n",
    "Things to do:\n",
    "\n",
    "- [x] Generate pubkeys from a seed\n",
    "    - different pubkeys for different amounts??\n",
    "    - only one active key set\n",
    "- [ ] Signing of tokens\n",
    "- [ ] Verify tokens\n",
    "- [x] Calculate keyset Ids\n",
    "- [ ] make it so that wallet can request to mint\n",
    "        - store hash with invoice for lookup later\n",
    "- [ ] mint tokens\n",
    "    - verify `BlindedMessage`s\n",
    "    - create promises\n",
    "- [ ] melt tokens - when a token is spent we need to invalidate it\n",
    "- [ ] split tokens - when a request to split is made, invalidate previous tokens and calculate value of new one\n",
    "    "
   ]
  },
  {
   "cell_type": "markdown",
   "id": "06eed4a0-80a4-4eec-a278-7aab34adcbb4",
   "metadata": {},
   "source": [
    "## [Generating a Keyset](https://github.com/cashubtc/nuts/blob/main/02.md#mints-generating-a-keyset)\n",
    "\n",
    "```python\n",
    "for i in range(MAX_ORDER):\n",
    "\tk_i = HASH_SHA256(s + D + i)[:32]\n",
    " ```\n",
    "\n",
    "`s` - seed\n",
    "\n",
    "`k_i` - priv key\n",
    "\n",
    "`i` - index of amount value\n",
    "\n",
    "`MAX_ORDER` - max token values supported \n",
    "   - Typically, `MAX_ORDER = 64`\n",
    "\n",
    "`D` - derivation path"
   ]
  },
  {
   "cell_type": "markdown",
   "id": "35570240-0f4a-41be-8ff9-5879fe1fb98b",
   "metadata": {},
   "source": [
    "Check this out: https://github.com/cashubtc/nutshell/blob/main/cashu/core/crypto/keys.py#L18C1-L18C1 "
   ]
  },
  {
   "cell_type": "code",
   "execution_count": 30,
   "id": "ece45f3b-f209-402d-9e3c-8fe6fe622800",
   "metadata": {},
   "outputs": [],
   "source": [
    "from hashlib import sha256\n",
    "from coincurve import PrivateKey\n",
    "\n",
    "def generate_private_keyset(seed, MAX_ORDER, derivation_path):\n",
    "    to_hash = [(seed + derivation_path + str(i)).encode() for i in range(MAX_ORDER)]\n",
    "    return {\n",
    "        2 ** idx: PrivateKey(\n",
    "            sha256(to_hash).digest()[:32]\n",
    "        )\n",
    "        for idx, to_hash in enumerate(to_hash)\n",
    "    }"
   ]
  },
  {
   "cell_type": "code",
   "execution_count": 31,
   "id": "585019d0-f49d-4b72-ab8b-afe979901960",
   "metadata": {
    "scrolled": true
   },
   "outputs": [
    {
     "data": {
      "text/plain": [
       "{1: <coincurve.keys.PrivateKey at 0x7f1698756d70>,\n",
       " 2: <coincurve.keys.PrivateKey at 0x7f16986efcd0>,\n",
       " 4: <coincurve.keys.PrivateKey at 0x7f1698728a60>,\n",
       " 8: <coincurve.keys.PrivateKey at 0x7f1698667f70>,\n",
       " 16: <coincurve.keys.PrivateKey at 0x7f1698650040>,\n",
       " 32: <coincurve.keys.PrivateKey at 0x7f16986501f0>,\n",
       " 64: <coincurve.keys.PrivateKey at 0x7f16986506a0>,\n",
       " 128: <coincurve.keys.PrivateKey at 0x7f1698652230>}"
      ]
     },
     "execution_count": 31,
     "metadata": {},
     "output_type": "execute_result"
    }
   ],
   "source": [
    "seed = \"johny_apple\"\n",
    "MAX_ORDER = 8\n",
    "derivation_path = \"/0/0/0/0\"\n",
    "    \n",
    "keys = generate_private_keyset(seed, MAX_ORDER, derivation_path)\n",
    "\n",
    "keys\n"
   ]
  },
  {
   "cell_type": "markdown",
   "id": "400bb3de-3a0b-4e22-92ac-e0ee97c43d6a",
   "metadata": {},
   "source": [
    "## [Public Keyset](https://github.com/cashubtc/nuts/blob/main/02.md#nut-02-keysets-and-keyset-id)\n",
    "A keyset is a set of public keys that the mint Bob generates and shares with its users. The mint MUST use the compressed public key format. The keyset refers to the set of public keys that each correspond to the amount values that the mint supports (e.g. 1, 2, 4, 8, ...) respectively."
   ]
  },
  {
   "cell_type": "code",
   "execution_count": 32,
   "id": "940cfcbe-c45d-48d0-84ae-3d66ae185c1c",
   "metadata": {},
   "outputs": [],
   "source": [
    "from coincurve import PublicKey\n",
    "\n",
    "def get_keyset(priv_keyset):\n",
    "    pub_keyset = {}\n",
    "    for idx, pk in priv_keyset.items():\n",
    "        from coincurve import PublicKey\n",
    "        pub_keyset[idx] = pk.public_key\n",
    "    return pub_keyset"
   ]
  },
  {
   "cell_type": "code",
   "execution_count": 33,
   "id": "b67fd38a-7c9a-405f-8f5a-ce438b6eaaad",
   "metadata": {},
   "outputs": [
    {
     "data": {
      "text/plain": [
       "{1: <coincurve.keys.PublicKey at 0x7f169872b430>,\n",
       " 2: <coincurve.keys.PublicKey at 0x7f16a1dfeb30>,\n",
       " 4: <coincurve.keys.PublicKey at 0x7f1698755300>,\n",
       " 8: <coincurve.keys.PublicKey at 0x7f1698667be0>,\n",
       " 16: <coincurve.keys.PublicKey at 0x7f1698651ed0>,\n",
       " 32: <coincurve.keys.PublicKey at 0x7f16986524d0>,\n",
       " 64: <coincurve.keys.PublicKey at 0x7f1698652650>,\n",
       " 128: <coincurve.keys.PublicKey at 0x7f16a1c985b0>}"
      ]
     },
     "execution_count": 33,
     "metadata": {},
     "output_type": "execute_result"
    }
   ],
   "source": [
    "public_keyset = get_keyset(keys)\n",
    "public_keyset"
   ]
  },
  {
   "cell_type": "markdown",
   "id": "66894a3d-f167-43d5-b2e8-4d5c8ada12a8",
   "metadata": {},
   "source": [
    "## [Deriving Keyset ID](https://github.com/cashubtc/nuts/blob/main/02.md#keyset-id)\n",
    "\n",
    "1.  sort keyset by amount\n",
    "2.  concatenate all (sorted) public keys to one string\n",
    "3.  HASH_SHA256 the concatenated public keys\n",
    "4.  take the first 12 characters of the hash"
   ]
  },
  {
   "cell_type": "code",
   "execution_count": 34,
   "id": "a417f910-370c-4231-ae30-981a19a423e5",
   "metadata": {},
   "outputs": [],
   "source": [
    "from base64 import b64encode\n",
    "from coincurve import PublicKey\n",
    "\n",
    "def derive_keyset_id(keys: Dict[int, PublicKey]) -> str:\n",
    "    sorted_keys = dict(sorted(keys.items()))\n",
    "    pubkeys_concat = b\"\".join([p.format() for p in sorted_keys.values()])\n",
    "    return \"00\" + sha256(pubkeys_concat).hexdigest()[:14]\n",
    "\n",
    "\n",
    "def urlsafe_to_keyset_id(keyset_id_url_safe):\n",
    "    return keyset_id_url_safe.replace('_', '/').replace('+', '-')\n",
    "\n",
    "def keyset_id_to_urlsafe(keyset_id):\n",
    "    return keyset_id.replace('/', '_').replace('-', '+')\n",
    "    "
   ]
  },
  {
   "cell_type": "code",
   "execution_count": 35,
   "id": "80f48a4e-4f2c-4ec0-a5ca-583b887a77df",
   "metadata": {},
   "outputs": [
    {
     "name": "stdout",
     "output_type": "stream",
     "text": [
      "KeysetID:  00762723599b57f8\n",
      "URL Safe:  00762723599b57f8\n"
     ]
    }
   ],
   "source": [
    "keyset_id = derive_keyset_id(public_keyset)\n",
    "print(\"KeysetID: \", keyset_id)\n",
    "\n",
    "url_safe_keyset_id = keyset_id_to_urlsafe(keyset_id)\n",
    "print (\"URL Safe: \", url_safe_keyset_id)\n",
    "\n",
    "assert keyset_id == urlsafe_to_keyset_id(url_safe_keyset_id)"
   ]
  },
  {
   "cell_type": "markdown",
   "id": "f2968062-9f50-4e2a-a250-a6a282e47e66",
   "metadata": {},
   "source": [
    "## Questions\n",
    "\n",
    "- What do we use as the derivation path `D` when generating a keyset? Can it be arbitrary?\n",
    "\n",
    "- do we store each priv key? Or just the derivation path and keyset ID then generate keys each time for signing? This way we only store the seed?\n",
    "- Does the mint have one single pubkey and single prive other than masterkey??\n",
    "  - https://github.com/cashubtc/nutshell/blob/main/cashu/core/crypto/keys.py#L35\n",
    "  - https://github.com/cashubtc/nutshell/blob/main/cashu/mint/ledger.py#L58"
   ]
  },
  {
   "cell_type": "markdown",
   "id": "e2318288-6208-403f-8cb6-d4c54ccfb26b",
   "metadata": {},
   "source": [
    "# [Blind Diffie-Hellmann key exchange (BDHKE)](https://github.com/cashubtc/nuts/blob/main/00.md#blind-diffie-hellmann-key-exchange-bdhke) \n",
    "\n",
    "## Bob (mint)\n",
    "\n",
    "- `k` private key of mint (one for each amount)\n",
    "- `K` public key of mint\n",
    "- `Q` promise (blinded signature)\n",
    "\n",
    "## Alice (user)\n",
    "\n",
    "- `x` random string (secret message), corresponds to point `Y` on curve\n",
    "- `r` private key (blinding factor)\n",
    "- `T` blinded message\n",
    "- `Z` proof (unblinded signature)\n",
    "\n",
    " ---\n",
    "\n",
    "- Mint `Bob` publishes public key `K = kG` \n",
    "- `Alice` picks secret `x` and computes `Y = hash_to_curve(x)`\n",
    "- `Alice` sends to `Bob`: `B_ = Y + rG` with `r` being a random blinding factor (**blinding**)\n",
    "- `Bob` sends back to `Alice` blinded key: `C_ = kB_` (these two steps are the DH key exchange) (**signing**)\n",
    "- `Alice` can calculate the unblinded key as `C_ - rK = kY + krG - krG = kY = C` (**unblinding**)\n",
    "- Alice can take the pair `(x, C)` as a token and can send it to `Carol`.\n",
    "- `Carol` can send `(x, C)` to `Bob` who then checks that `k*hash_to_curve(x) == C` (**verification**), and if so treats it as a valid spend of a token, adding `x`  to the list of spent secrets."
   ]
  },
  {
   "cell_type": "markdown",
   "id": "509dccc3-2afb-47cc-9cab-24f40590a998",
   "metadata": {},
   "source": [
    "**Who knows what??**\n",
    "Carol: K, x, Y, B_, r, C_\n",
    "\n",
    "Bob: K, k, B_, C_\n",
    "\n",
    "**Who doesn't know what??**\n",
    "\n",
    "Carol: k\n",
    "\n",
    "Bob: x, r, Y"
   ]
  },
  {
   "cell_type": "code",
   "execution_count": 36,
   "id": "738edd1d-5746-4569-b8cf-4a0bfafbe7fe",
   "metadata": {},
   "outputs": [],
   "source": [
    "lightning_bin_dir = \"/usr/local/bin\"\n",
    "lightning_dir = \"/tmp/l1\"\n",
    "l1cli = f\"{lightning_bin_dir}/lightning-cli --lightning-dir={lightning_dir}\"\n",
    "\n"
   ]
  },
  {
   "cell_type": "code",
   "execution_count": 37,
   "id": "8f498d7f-9431-4529-96b9-e40c2b4572d2",
   "metadata": {},
   "outputs": [],
   "source": [
    "pubkeys = !\"$lightning_bin_dir\"/lightning-cli --lightning-dir=\"$lightning_dir\" cashu-get-keys | jq -r .keysets[0].keys"
   ]
  },
  {
   "cell_type": "code",
   "execution_count": 38,
   "id": "2d277523-1402-419d-a498-4f8d0fe8c53a",
   "metadata": {},
   "outputs": [
    {
     "data": {
      "text/plain": [
       "['{',\n",
       " '  \"1\": \"02b53a33e8b70644d83e5700b2dfa45b7fd7bb1ed597a6f4f2408e79d2ed316cef\",',\n",
       " '  \"2\": \"034c307cfa8736158e2bb0435153f805e7d6d6ec95249eee32f31effe4fef87e24\",',\n",
       " '  \"4\": \"02837b0c27e0e1c00934925031e10c41e7a2b926eb1b6e8d5846024b64b16964cc\",',\n",
       " '  \"8\": \"0232eaf6f41725360b28ba5242243616099dce2f17aaf5fa7241bb4015d6461495\",',\n",
       " '  \"16\": \"031b06e936ace0e0e449a5eeabcb0dc39a11b72650142cc653d008dce482004178\",',\n",
       " '  \"32\": \"03053d1a6e05e1e12537129dad7c983cc1845279f3051df7d37956cdb09d633f29\",',\n",
       " '  \"64\": \"02f81334344f31fe0b919bd9fa40e4a5b0b4e4d4dbd017cdf6dbe66d1fbfae1975\",',\n",
       " '  \"128\": \"02ee1a9c0b7018150ff71ce3f2207011f034a6a5a81d40f2066105254993b4b305\"',\n",
       " '}']"
      ]
     },
     "execution_count": 38,
     "metadata": {},
     "output_type": "execute_result"
    }
   ],
   "source": [
    "pubkeys"
   ]
  },
  {
   "cell_type": "code",
   "execution_count": 39,
   "id": "ab84e10f-dfd6-4e74-b9ff-94b35384831b",
   "metadata": {},
   "outputs": [
    {
     "data": {
      "text/plain": [
       "['{',\n",
       " '   \"1\": \"78196135e2121c6750e0d3ed7669cc43a83107d79dbfbb253c069292ec83c59a\",',\n",
       " '   \"2\": \"62d469a41ab8e82cb95dce66a8562f8a241d9f8c1c9dbaac41829d46d1856bb7\",',\n",
       " '   \"4\": \"3375381bb41a9cb1b1a47d78d37e4a703332af50ef4d1661a8892ba3f0e42f8c\",',\n",
       " '   \"8\": \"5c47dc806dac67518dd8355dc1c2b29daf73a88195913b5b1b8e5bf319d40ae7\",',\n",
       " '   \"16\": \"2f8cae4671fadfec38df2d8afa2b57b5303c5035488e23d373b2bb96139b9992\",',\n",
       " '   \"32\": \"226d7f6783a73927ece9009124589aaf107ea0edafb9f4c7c5358301b54e7888\",',\n",
       " '   \"64\": \"52e4b9328d26a927e0473e806f52fa058027c649f9bfee45f8ed13c585892fcd\",',\n",
       " '   \"128\": \"2207ce69cd468de1790ad1c8a5c9516ac6f6068067bf00b1e4545e134bb70fb8\"',\n",
       " '}']"
      ]
     },
     "execution_count": 39,
     "metadata": {},
     "output_type": "execute_result"
    }
   ],
   "source": [
    "privkeys =  !\"$lightning_bin_dir\"/lightning-cli --lightning-dir=\"$lightning_dir\" cashu-dev-get-privkeys\n",
    "privkeys"
   ]
  },
  {
   "cell_type": "code",
   "execution_count": 40,
   "id": "0d4e962a-bf7b-48ee-9843-3c56f167e217",
   "metadata": {},
   "outputs": [
    {
     "data": {
      "text/plain": [
       "'78196135e2121c6750e0d3ed7669cc43a83107d79dbfbb253c069292ec83c59a'"
      ]
     },
     "execution_count": 40,
     "metadata": {},
     "output_type": "execute_result"
    }
   ],
   "source": [
    "import json\n",
    "json_string = ''.join(privkeys)\n",
    "    \n",
    "# Parse the JSON string\n",
    "privkeys_dict = json.loads(json_string)\n",
    "\n",
    "# Now privkeys_dict is a Python dictionary\n",
    "# Access the private key for key \"1\"\n",
    "privkey_1 = privkeys_dict.get(\"1\", \"default_value\")\n",
    "privkey_2 = privkeys_dict.get(\"2\", \"default_value\")\n",
    "privkey_4 = privkeys_dict.get(\"4\", \"default_value\")\n",
    "privkey_1"
   ]
  },
  {
   "cell_type": "code",
   "execution_count": 41,
   "id": "d6aa9b4b-0853-4281-a978-0d4d2c7db908",
   "metadata": {},
   "outputs": [
    {
     "data": {
      "text/plain": [
       "'02b53a33e8b70644d83e5700b2dfa45b7fd7bb1ed597a6f4f2408e79d2ed316cef'"
      ]
     },
     "execution_count": 41,
     "metadata": {},
     "output_type": "execute_result"
    }
   ],
   "source": [
    "pub_keys_json_string = ''.join(pubkeys)\n",
    "pubkey_dict = json.loads(pub_keys_json_string)\n",
    "pubkey_1 = pubkey_dict.get(\"1\", \"default_value\")\n",
    "pubkey_2 = pubkey_dict.get(\"2\", \"default_value\")\n",
    "pubkey_4 = pubkey_dict.get(\"4\", \"default_value\")\n",
    "pubkey_1"
   ]
  },
  {
   "cell_type": "code",
   "execution_count": 42,
   "id": "8d43f016-6818-41c7-bd14-305600c6a1d1",
   "metadata": {},
   "outputs": [],
   "source": [
    "amount = 1\n",
    "k = PrivateKey().from_hex(privkey_1)\n",
    "K = k.public_key\n",
    "assert K == PublicKey(bytes.fromhex(pubkey_1))"
   ]
  },
  {
   "cell_type": "code",
   "execution_count": 43,
   "id": "51ed6aa6-9955-4541-9e76-9b6724c2da3d",
   "metadata": {},
   "outputs": [],
   "source": [
    "def hash_to_curve(x_bytes):\n",
    "    # Hash the secret using SHA-256\n",
    "    hash_value = sha256(x_bytes).digest()\n",
    "    # Create a public key Y from the hashed secret\n",
    "    Y = PublicKey.from_secret(hash_value)\n",
    "    return Y"
   ]
  },
  {
   "cell_type": "code",
   "execution_count": 44,
   "id": "e0dae06f-1edb-466d-9645-30d9d45eb6ba",
   "metadata": {},
   "outputs": [],
   "source": [
    "x_secret = b'a secret'"
   ]
  },
  {
   "cell_type": "code",
   "execution_count": 45,
   "id": "0aa059cd-5ece-4c57-b950-0d1a4a91747b",
   "metadata": {
    "scrolled": true
   },
   "outputs": [
    {
     "data": {
      "text/plain": [
       "<coincurve.keys.PublicKey at 0x7f16987ef070>"
      ]
     },
     "execution_count": 45,
     "metadata": {},
     "output_type": "execute_result"
    }
   ],
   "source": [
    "Y = hash_to_curve(x_secret)\n",
    "Y"
   ]
  },
  {
   "cell_type": "markdown",
   "id": "11ac28a3-61d1-4293-b41a-8a93b36803e6",
   "metadata": {},
   "source": [
    "**Alice sends to Bob:** `B_ = Y + rG`"
   ]
  },
  {
   "cell_type": "code",
   "execution_count": 46,
   "id": "207ded70-0ab6-4913-8eec-41e70ee4f358",
   "metadata": {},
   "outputs": [
    {
     "data": {
      "text/plain": [
       "'027f50d1a8cce147ab6e7dbaf2d39e2e2f690c2748eebf498902aa131412ee638e'"
      ]
     },
     "execution_count": 46,
     "metadata": {},
     "output_type": "execute_result"
    }
   ],
   "source": [
    "from coincurve import PrivateKey\n",
    "r = PrivateKey()\n",
    "R = r.public_key\n",
    "B_ = PublicKey.combine_keys([Y, R]).format().hex()\n",
    "B_"
   ]
  },
  {
   "cell_type": "markdown",
   "id": "cef31f6d-327b-4f87-b7a9-e14a79c52ebb",
   "metadata": {},
   "source": [
    "**Bob send to Alice:** `C_ = kB_`"
   ]
  },
  {
   "cell_type": "code",
   "execution_count": 47,
   "id": "8eb8b587-508c-46c5-87f2-b952009aca44",
   "metadata": {},
   "outputs": [],
   "source": [
    "# BlindedMessage: https://github.com/cashubtc/nuts/blob/main/00.md#blindedmessage  \n",
    "\n",
    "# @plugin.method(\"cashu-sign\")# TODO: add id to specify which keyset to use\n",
    "def sign(B_, k: PrivateKey): \n",
    "    # B_ = Y + rG with r being a random blinding factor (blinding)\n",
    "    # C_ = kB_ (these two steps are the DH key exchange) (signing)\n",
    "    B_bytes = bytes.fromhex(B_)\n",
    "    C_ = PublicKey(B_bytes).multiply(k.secret)\n",
    "    return C_"
   ]
  },
  {
   "cell_type": "code",
   "execution_count": 48,
   "id": "ca1a5c28-d14f-4588-9678-db45e1fab27a",
   "metadata": {},
   "outputs": [
    {
     "data": {
      "text/plain": [
       "'02220b777a868c26543fccf30f2af625d6b4925adbc0c5ebc30d92fedafe995155'"
      ]
     },
     "execution_count": 48,
     "metadata": {},
     "output_type": "execute_result"
    }
   ],
   "source": [
    "# priv key that corresponds to token value `1`\n",
    "C_ = sign(B_, k)\n",
    "C_.format().hex()"
   ]
  },
  {
   "cell_type": "markdown",
   "id": "86aefd16-ea22-4fff-83b7-a3fb81421c09",
   "metadata": {},
   "source": [
    "**Alice:**   `C_ - rK = kY + krG - krG = kY = C`"
   ]
  },
  {
   "cell_type": "code",
   "execution_count": 49,
   "id": "960cc2ff-6e9f-4ef9-ad72-6b0c92dac09f",
   "metadata": {},
   "outputs": [
    {
     "data": {
      "text/plain": [
       "True"
      ]
     },
     "execution_count": 49,
     "metadata": {},
     "output_type": "execute_result"
    }
   ],
   "source": [
    "# order of the finite field\n",
    "p = 115792089237316195423570985008687907853269984665640564039457584007908834671663\n",
    "\n",
    "rK = PublicKey(K.format()).multiply(r.secret)\n",
    "\n",
    "x,y = rK.point()\n",
    "neg_rK = PublicKey.from_point(x, (p - y) % p)\n",
    "\n",
    "# C = C_ - rK\n",
    "C = PublicKey.combine_keys([C_, neg_rK])\n",
    "\n",
    "# kY should equal C\n",
    "kY = Y.multiply(k.secret)\n",
    "kY == C"
   ]
  },
  {
   "cell_type": "markdown",
   "id": "d13753b3-dbbb-46c6-91c9-7cd5f6a2efa3",
   "metadata": {},
   "source": [
    "Now the token is `(x, c)`"
   ]
  },
  {
   "cell_type": "code",
   "execution_count": 22,
   "id": "fa1c03f5-17ad-4752-86bc-6ab5c297b41b",
   "metadata": {},
   "outputs": [
    {
     "data": {
      "text/plain": [
       "(b'a secret', <coincurve.keys.PublicKey at 0x7f16a0255bd0>)"
      ]
     },
     "execution_count": 22,
     "metadata": {},
     "output_type": "execute_result"
    }
   ],
   "source": [
    "token = (x_secret, C)\n",
    "token"
   ]
  },
  {
   "cell_type": "markdown",
   "id": "06a6e7e5-c57d-47a4-8516-5c696bd974e9",
   "metadata": {},
   "source": [
    "Carol can now redeem with Bob.\n",
    "\n",
    "Bob verifies the token with:\n",
    "\n",
    "`k*hash_to_curve(x) == C`"
   ]
  },
  {
   "cell_type": "code",
   "execution_count": 23,
   "id": "a4204d23-2044-4131-b4b5-1ba9af613915",
   "metadata": {},
   "outputs": [
    {
     "data": {
      "text/plain": [
       "True"
      ]
     },
     "execution_count": 23,
     "metadata": {},
     "output_type": "execute_result"
    }
   ],
   "source": [
    "x_secret, C = token\n",
    "def verify_token(C, secret, k: PrivateKey):\n",
    "    # k*hash_to_curve(x) == C\n",
    "    # secret_bytes = secret.encode()\n",
    "    Y = hash_to_curve(secret)\n",
    "    kY = Y.multiply(k.secret)\n",
    "    return kY.format().hex() == C\n",
    "\n",
    "verify_token(C.format().hex(), x_secret, k)"
   ]
  },
  {
   "cell_type": "markdown",
   "id": "812366d8-e066-4179-9dca-ceb198693b21",
   "metadata": {},
   "source": [
    "If valid spend the **add `x_secret` to list of spent secrets**"
   ]
  },
  {
   "cell_type": "code",
   "execution_count": 24,
   "id": "c024f70f-cf85-4d7c-a7e0-864d969598da",
   "metadata": {},
   "outputs": [],
   "source": [
    "l1 = \"/usr/local/bin/lightning-cli --lightning-dir=/tmp/l1\"\n",
    "l2 = \"/usr/local/bin/lightning-cli --lightning-dir=/tmp/l2\""
   ]
  },
  {
   "cell_type": "code",
   "execution_count": 25,
   "id": "c319fd23-454c-435d-88dc-9c0d5378e5cf",
   "metadata": {},
   "outputs": [],
   "source": [
    "### Test Mint Flow"
   ]
  },
  {
   "cell_type": "code",
   "execution_count": 26,
   "id": "5a922ef8-00db-41e6-84eb-dbd5c8d58865",
   "metadata": {},
   "outputs": [],
   "source": [
    "mint_amount = 7"
   ]
  },
  {
   "cell_type": "markdown",
   "id": "28cbc40a-3c54-4058-9038-3b62631304e8",
   "metadata": {},
   "source": [
    "#### Request quote for minting"
   ]
  },
  {
   "cell_type": "code",
   "execution_count": 27,
   "id": "b6cd5195-4f6a-4fa9-986d-d761a21552a6",
   "metadata": {},
   "outputs": [
    {
     "ename": "KeyError",
     "evalue": "'quote'",
     "output_type": "error",
     "traceback": [
      "\u001b[0;31m---------------------------------------------------------------------------\u001b[0m",
      "\u001b[0;31mKeyError\u001b[0m                                  Traceback (most recent call last)",
      "Cell \u001b[0;32mIn[27], line 4\u001b[0m\n\u001b[1;32m      1\u001b[0m mint_quote \u001b[38;5;241m=\u001b[39m get_ipython()\u001b[38;5;241m.\u001b[39mgetoutput(\u001b[38;5;124m'\u001b[39m\u001b[38;5;124m$l1 -k cashu-get-quote amount=$mint_amount unit=\u001b[39m\u001b[38;5;124m\"\u001b[39m\u001b[38;5;124msat\u001b[39m\u001b[38;5;124m\"\u001b[39m\u001b[38;5;124m | jq -r\u001b[39m\u001b[38;5;124m'\u001b[39m)\n\u001b[1;32m      3\u001b[0m json_mint_quote \u001b[38;5;241m=\u001b[39m json\u001b[38;5;241m.\u001b[39mloads(\u001b[38;5;124m'\u001b[39m\u001b[38;5;124m'\u001b[39m\u001b[38;5;241m.\u001b[39mjoin(mint_quote))\n\u001b[0;32m----> 4\u001b[0m mint_quote_id \u001b[38;5;241m=\u001b[39m \u001b[43mjson_mint_quote\u001b[49m\u001b[43m[\u001b[49m\u001b[38;5;124;43m\"\u001b[39;49m\u001b[38;5;124;43mquote\u001b[39;49m\u001b[38;5;124;43m\"\u001b[39;49m\u001b[43m]\u001b[49m\n\u001b[1;32m      5\u001b[0m \u001b[38;5;28mprint\u001b[39m(\u001b[38;5;124m\"\u001b[39m\u001b[38;5;124mquoteId:\u001b[39m\u001b[38;5;124m\"\u001b[39m, mint_quote_id)\n\u001b[1;32m      6\u001b[0m invoice_to_pay \u001b[38;5;241m=\u001b[39m json_mint_quote[\u001b[38;5;124m\"\u001b[39m\u001b[38;5;124mrequest\u001b[39m\u001b[38;5;124m\"\u001b[39m]\n",
      "\u001b[0;31mKeyError\u001b[0m: 'quote'"
     ]
    }
   ],
   "source": [
    "mint_quote = !$l1 -k cashu-get-quote amount=$mint_amount unit=\"sat\" | jq -r \n",
    "\n",
    "json_mint_quote = json.loads(''.join(mint_quote))\n",
    "mint_quote_id = json_mint_quote[\"quote\"]\n",
    "print(\"quoteId:\", mint_quote_id)\n",
    "invoice_to_pay = json_mint_quote[\"request\"]\n",
    "print(\"bolt11:\", invoice_to_pay)\n"
   ]
  },
  {
   "cell_type": "markdown",
   "id": "9954bb3c-249d-40bf-bcba-ddd44449c78b",
   "metadata": {},
   "source": [
    "#### L2 pays invoice "
   ]
  },
  {
   "cell_type": "code",
   "execution_count": null,
   "id": "a520a041-9e7b-4dae-94ce-91c997762ed4",
   "metadata": {},
   "outputs": [],
   "source": [
    "# pay invoice with l2\n",
    "! $l2 pay \"$invoice_to_pay\""
   ]
  },
  {
   "cell_type": "markdown",
   "id": "ee3139e1-2f71-4d90-bbb9-3ff851d374c6",
   "metadata": {},
   "source": [
    "#### Check status of mint"
   ]
  },
  {
   "cell_type": "code",
   "execution_count": null,
   "id": "0a2650a3-9139-4a3f-a0d1-16a4435adc5d",
   "metadata": {},
   "outputs": [],
   "source": [
    "!$l1 cashu-check-quote \"$mint_quote_id\""
   ]
  },
  {
   "cell_type": "code",
   "execution_count": null,
   "id": "ea09dc26-37a0-4463-b839-0a8ba259ee4a",
   "metadata": {},
   "outputs": [],
   "source": [
    "# generate the blinded messages\n",
    "from coincurve import PrivateKey, PublicKey\n",
    "from hashlib import sha256\n",
    "secrets = [\"1\", \"2\", \"4\"]\n",
    "amounts = [1,2,4]\n",
    "Ys = [hash_to_curve(s.encode()) for s in secrets]\n",
    "rs = [PrivateKey() for _ in range(3)]\n",
    "B_messages = []\n",
    "for secret, amount, Y, r in zip(secrets, amounts, Ys, rs):\n",
    "    R = r.public_key\n",
    "    B_ = PublicKey.combine_keys([Y, R]).format().hex()\n",
    "    B_messages.append({\"amount\": amount, \"B_\": B_})\n",
    "\n",
    "json.dumps(B_messages)\n",
    "# r = PrivateKey()\n",
    "# R = r.public_key\n",
    "# B_ = PublicKey.combine_keys([Y, R]).format().hex()\n",
    "# B_"
   ]
  },
  {
   "cell_type": "code",
   "execution_count": null,
   "id": "78cdcdf7-6531-45bd-ab2b-78dc8ce37643",
   "metadata": {},
   "outputs": [],
   "source": [
    "blinded_sigs = ! /usr/local/bin/lightning-cli --lightning-dir=/tmp/l1 cashu-mint 1373345158dd1510 '[{\"amount\": 1, \"B_\": \"021a40cba4ec6ced1743350897e4c7ad46676624577e14fb1a0939819bb48f0f5b\"}, {\"amount\": 2, \"B_\": \"0223bb3a32c1cca89ca19c71bbcd1b40bb7f85696d494fc1894afe7805bd1abea9\"}, {\"amount\": 4, \"B_\": \"0358edb2a9b6c6b3e573070a6ecb77a703a6a2793303a0e4009205e7f909646875\"}]'\n",
    "blinded_sigs =json.loads(''.join(blinded_sigs))\n",
    "blinded_sigs"
   ]
  },
  {
   "cell_type": "code",
   "execution_count": null,
   "id": "df61f660-d434-41cb-a501-2be961325fae",
   "metadata": {},
   "outputs": [],
   "source": [
    "# l2 needs an invoice to give th emint for melting\n",
    "l2_invoice = ! /usr/local/bin/lightning-cli --lightning-dir=/tmp/l2 invoice 7000 $RANDOM description | jq -r  .'bolt11'\n",
    "l2_invoice = l2_invoice[0]\n",
    "l2_invoice"
   ]
  },
  {
   "cell_type": "code",
   "execution_count": null,
   "id": "0c66ee67-7222-4d6f-83ca-551843ebbd96",
   "metadata": {},
   "outputs": [],
   "source": [
    "request = l2_invoice\n",
    "unit = \"sat\""
   ]
  },
  {
   "cell_type": "code",
   "execution_count": null,
   "id": "07809ac5-0b61-49cc-b5dc-1a41326734eb",
   "metadata": {},
   "outputs": [],
   "source": [
    "# Getting a melt quote\n",
    "melt_quote = !$l1_cli -k cashu-melt-quote req=$request unit=\"sat\" | jq -r .'quote'\n",
    "melt_quote = melt_quote[0]\n",
    "melt_quote"
   ]
  },
  {
   "cell_type": "code",
   "execution_count": null,
   "id": "2e7108a4-0c22-4103-b714-a9df61a0a08e",
   "metadata": {},
   "outputs": [],
   "source": [
    "# Check melt quote status\n",
    "!$l1_cli cashu-check-melt-quote $melt_quote"
   ]
  },
  {
   "cell_type": "code",
   "execution_count": null,
   "id": "eced213b-b1b0-4b05-b37d-385b3241d5b9",
   "metadata": {},
   "outputs": [],
   "source": [
    "# Pay invoice\n",
    "!$l1_cli pay $l2_invoice"
   ]
  },
  {
   "cell_type": "code",
   "execution_count": 28,
   "id": "7c1904b4-6cf3-4eff-b6af-850ba74528c3",
   "metadata": {},
   "outputs": [
    {
     "ename": "NameError",
     "evalue": "name 'blinded_sigs' is not defined",
     "output_type": "error",
     "traceback": [
      "\u001b[0;31m---------------------------------------------------------------------------\u001b[0m",
      "\u001b[0;31mNameError\u001b[0m                                 Traceback (most recent call last)",
      "Cell \u001b[0;32mIn[28], line 25\u001b[0m\n\u001b[1;32m     22\u001b[0m     \u001b[38;5;28;01mreturn\u001b[39;00m difference\n\u001b[1;32m     24\u001b[0m inputs \u001b[38;5;241m=\u001b[39m []\n\u001b[0;32m---> 25\u001b[0m \u001b[38;5;28;01mfor\u001b[39;00m output, r, secret \u001b[38;5;129;01min\u001b[39;00m \u001b[38;5;28mzip\u001b[39m(\u001b[43mblinded_sigs\u001b[49m, rs, secrets):\n\u001b[1;32m     26\u001b[0m     K \u001b[38;5;241m=\u001b[39m pubkey_dict\u001b[38;5;241m.\u001b[39mget(\u001b[38;5;28mstr\u001b[39m(output[\u001b[38;5;124m\"\u001b[39m\u001b[38;5;124mamount\u001b[39m\u001b[38;5;124m\"\u001b[39m]), \u001b[38;5;124m\"\u001b[39m\u001b[38;5;124mdefault_value\u001b[39m\u001b[38;5;124m\"\u001b[39m)\n\u001b[1;32m     27\u001b[0m     K_bytes \u001b[38;5;241m=\u001b[39m \u001b[38;5;28mbytes\u001b[39m\u001b[38;5;241m.\u001b[39mfromhex(K)\n",
      "\u001b[0;31mNameError\u001b[0m: name 'blinded_sigs' is not defined"
     ]
    }
   ],
   "source": [
    "# construct inputs\n",
    "# order of the finite field\n",
    "# p = 115792089237316195423570985008687907853269984665640564039457584007908834671663\n",
    "\n",
    "# rK = PublicKey(K.format()).multiply(r.secret)\n",
    "\n",
    "# x,y = rK.point()\n",
    "# neg_rK = PublicKey.from_point(x, (p - y) % p)\n",
    "\n",
    "# # C = C_ - rK\n",
    "# C = PublicKey.combine_keys([C_, neg_rK])\n",
    "\n",
    "# # kY should equal C\n",
    "# kY = Y.multiply(k.secret)\n",
    "# kY == C\n",
    "\n",
    "def subtract_points(pt1: PublicKey, pt2:  PublicKey):\n",
    "    p = 115792089237316195423570985008687907853269984665640564039457584007908834671663\n",
    "    x2, y2 = pt2.point()\n",
    "    neg_pt2 = PublicKey.from_point(x2, (p - y2) % p)\n",
    "    difference = PublicKey.combine_keys([C_, neg_pt2])\n",
    "    return difference\n",
    "\n",
    "inputs = []\n",
    "for output, r, secret in zip(blinded_sigs, rs, secrets):\n",
    "    K = pubkey_dict.get(str(output[\"amount\"]), \"default_value\")\n",
    "    K_bytes = bytes.fromhex(K)\n",
    "    rK = PublicKey(K_bytes).multiply(r.secret)\n",
    "    C_ = PublicKey(bytes.fromhex(output[\"C_\"]))\n",
    "    C = subtract_points(C_, rK)\n",
    "    inputs.append({\n",
    "        \"amount\": output[\"amount\"],\n",
    "        \"C\": C.format().hex(),\n",
    "        \"id\": output[\"id\"],\n",
    "        \"secret\":secret\n",
    "    })\n",
    "\n",
    "json.dumps(inputs)\n",
    "\n",
    "    "
   ]
  },
  {
   "cell_type": "code",
   "execution_count": null,
   "id": "d66282ee-b049-4ae1-835a-0cf12870d65c",
   "metadata": {},
   "outputs": [],
   "source": [
    "!/usr/local/bin/lightning-cli --lightning-dir=/tmp/l1 -k cashu-melt quote=ab34680b4acab67b inputs='[{\"amount\": 1, \"C\": \"02dad6625e6ca42caa8197f801ded28e10f0b7a3cf81a8f525984c825774b1ee64\", \"id\": \"00b2f181c83b11aa\", \"secret\": \"1\"}, {\"amount\": 2, \"C\": \"03eed603517a7cba2accb07834990d6c74e0ac6c7757726740a05e9ea538625f0f\", \"id\": \"00b2f181c83b11aa\", \"secret\": \"2\"}, {\"amount\": 4, \"C\": \"02a6a27f1394eb7000b923fe56e45da8d0fa15f5d6edf1be781438416c9c13e9b2\", \"id\": \"00b2f181c83b11aa\", \"secret\": \"4\"}]'"
   ]
  },
  {
   "cell_type": "code",
   "execution_count": null,
   "id": "6a3d196d-0a10-4bca-97ba-4da88bbd01c8",
   "metadata": {},
   "outputs": [],
   "source": [
    "def verify_token(C, secret, k: PrivateKey):\n",
    "    # k*hash_to_curve(x) == C\n",
    "    secret_bytes = secret.encode()\n",
    "    Y = hash_to_curve(secret_bytes)\n",
    "    kY = Y.multiply(k.secret)\n",
    "    return kY.format().hex() == C\n",
    "\n",
    "verify_token("
   ]
  },
  {
   "cell_type": "markdown",
   "id": "24ddc41d-2518-48b2-9d17-b54df471f075",
   "metadata": {},
   "source": [
    "### Test `cashu-sign` Method"
   ]
  },
  {
   "cell_type": "code",
   "execution_count": null,
   "id": "978bf4f1-0626-4c91-a226-74d7352b5077",
   "metadata": {},
   "outputs": [],
   "source": [
    "!/nix/store/0bq00qd0scchy6vasjpqxqg53aijcca3-clightning-v23.11rc1/bin/lightning-cli --lightning-dir=/home/gudnuf/pyshu_mint/.lightning_nodes/l1 -k cashu-sign amount=3 B_=\"034110bf4bff1838c9f79a5de86c6215b9cf0fef081f3337e40f37a016691fc302\" | jq -r"
   ]
  },
  {
   "cell_type": "markdown",
   "id": "f04b576b-30f1-41dc-925d-7f3148807ba9",
   "metadata": {},
   "source": [
    "# [Requesting a Mint](https://github.com/cashubtc/nuts/blob/main/03.md)\n",
    "1. Wallet sends `GET /mint?amount=<amount_sat>`\n",
    "2. Mint responds with invoice and hash:\n",
    "\n",
    "```json\n",
    "{\n",
    "  \"pr\": \"lnbc100n1p3kdrv5sp5lpdxzghe5j67q...\",\n",
    "  \"hash\": \"67d1d9ea6ada225c115418671b64a...\"\n",
    "}\n",
    "```\n",
    "3. Wallet pays invoice\n",
    "4. Wallet requests tokens: `POST /mint?hash=<hash>` and `BlindedMessages` in request body\n",
    "5.  d\n",
    "\n",
    "#### `BlindedMessage` (outputs)\n",
    "```json\n",
    "{\n",
    "  \"amount\": int,\n",
    "  \"B_\": hex_str\n",
    "}\n",
    "```\n",
    "\n",
    "`BlindedMessages` is an array of `BlindedMessage`s\n",
    "\n",
    "**hash must be unique and stored with amount_sat**\n",
    "\n",
    "\n",
    "##### Verify `BlindedMessages`\n",
    "- `amount`s must add to a maximum of `<amount_sat>`\n",
    "   - find amouunt sat with the `hash`\n",
    "- invoice must be paid\n",
    "- `BlindedMessages` are valid\n",
    "\n",
    "#### `PostMintResponse`\n",
    "\n",
    "If request for token is valid, then mint responds with `BlindedSignature`s (`C_`)\n",
    "\n",
    "```json\n",
    "{\n",
    "\"promises\":\n",
    "  [\n",
    "    {\n",
    "    \"id\": \"DSAl9nvvyfva\",\n",
    "    \"amount\": 2,\n",
    "    \"C_\": \"03e61daa438fc7bcc53f6920ec6c8c357c24094fb04c1fc60e2606df4910b21ffb\"\n",
    "    },\n",
    "    {\n",
    "    \"id\": \"DSAl9nvvyfva\",\n",
    "    \"amount\": 8,\n",
    "    \"C_\": \"03fd4ce5a16b65576145949e6f99f445f8249fee17c606b688b504a849cdc452de\"\n",
    "    },\n",
    "  ]\n",
    "}\n",
    "```\n",
    "\n",
    "\n",
    "#### Unblinfing Signatures\n",
    "\n",
    "Once the wallet receives a response from mint, then unblind to create `Proofs`.\n",
    "\n",
    "##### `Proofs`\n",
    "```json\n",
    "{\n",
    "\"proofs\" : \n",
    "  [\n",
    "    {\n",
    "    \"id\": \"DSAl9nvvyfva\", //keyset id\n",
    "    \"amount\": 2, //token amount value\n",
    "    \"secret\": \"S+tDfc1Lfsrb06zaRdVTed6Izg\", // secret used by wallet in the signing process\n",
    "    \"C\": \"0242b0fb43804d8ba9a64ceef249ad7a60f42c15fe6d4907238b05e857527832a3\" // unblinded sig\n",
    "    },\n",
    "    {\n",
    "    ...\n",
    "    }\n",
    "  ]\n",
    "}\n",
    "```"
   ]
  },
  {
   "cell_type": "markdown",
   "id": "85deb8ff-795a-4fed-a26d-526741db72ad",
   "metadata": {},
   "source": [
    "## Questions\n",
    "- What does the mint need to store? Just the secrets that have been spent?\n",
    "    - If the mint signs a token where that secret is hidden, then the mint know that they issued the token, but there is one secret for one token, so if secret is spent thats all we need to know... right?? right??\n",
    "    - real question: one secret for one token??"
   ]
  },
  {
   "cell_type": "markdown",
   "id": "aaa7c07f-76e1-466f-8854-c71f44961101",
   "metadata": {},
   "source": [
    "# [Melting Tokens](https://github.com/cashubtc/nuts/blob/main/05.md#nut-05-melting-tokens)\n",
    "Opposite of minting\n",
    "\n",
    "1. wallet gets maximum fees `POST /fees` with ln invoice\n",
    "2. mint responds with fees\n",
    "3. wallet send `Proofs` along with a lightning invoice `POST /melt` (mint expexts `Proofs` of at least `total_amount = amount + fee_reserve`\n",
    "4. mint responds with:\n",
    "\n",
    "```json\n",
    "{\n",
    "\"paid\": true,\n",
    "\"preimage\": \"da225c115418671b64a67d1d9ea6a...\"\n",
    "}\n",
    "```\n",
    "\n",
    "Once paid, **mint should mark all secrets from tokens as spent**"
   ]
  },
  {
   "cell_type": "markdown",
   "id": "e711b0cf-2bd9-4e6c-b6a6-3de4e7ac7b52",
   "metadata": {},
   "source": [
    "# [Splitting Tokens](https://github.com/cashubtc/nuts/blob/main/06.md#nut-06-split-tokens)\n",
    "\n",
    "- Involves `Proofs` and `BlindedMessages` in the request to split\n",
    "- Mint verifies, then invalidates `Proofs` --> then issues new promises `BlindedSignatures`\n",
    "\n",
    "\n",
    "- Wallet requests split `POST /split` with `Proofs` and `BlindedMessages` in request body\n",
    "- Mint responds with `BlindedSignatures` if all good\n",
    "\n",
    "Nice function for getting split amounts https://github.com/cashubtc/nutshell/blob/main/cashu/core/split.py"
   ]
  },
  {
   "cell_type": "markdown",
   "id": "35d9b98f-b0c6-4561-b0b1-b0ae56a07409",
   "metadata": {},
   "source": [
    "# What is needed to run a mint??\n",
    "\n",
    "- ability to blind sign \n",
    "- ability to verify that I signed \n",
    "- database to keep track of things so we don't lose money and be sad\n",
    "  - spent secrets\n",
    "  - `<hash>:<amount_sat>` and maybe an invoice for the minting process??\n",
    "- API for interacting with wallets"
   ]
  },
  {
   "cell_type": "code",
   "execution_count": null,
   "id": "1a401a72-f6c2-481a-bd7c-5199ef389944",
   "metadata": {},
   "outputs": [],
   "source": []
  }
 ],
 "metadata": {
  "kernelspec": {
   "display_name": "Python 3 (ipykernel)",
   "language": "python",
   "name": "python3"
  },
  "language_info": {
   "codemirror_mode": {
    "name": "ipython",
    "version": 3
   },
   "file_extension": ".py",
   "mimetype": "text/x-python",
   "name": "python",
   "nbconvert_exporter": "python",
   "pygments_lexer": "ipython3",
   "version": "3.10.12"
  }
 },
 "nbformat": 4,
 "nbformat_minor": 5
}
