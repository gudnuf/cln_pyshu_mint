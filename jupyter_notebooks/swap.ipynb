{
 "cells": [
  {
   "cell_type": "markdown",
   "id": "9c939fe3-7d0e-4c46-b9f9-75f91f4707f5",
   "metadata": {},
   "source": [
    "## Swapping \n",
    "\n",
    "\"most important component of the Cashu system\""
   ]
  },
  {
   "cell_type": "markdown",
   "id": "dc05eae5-b963-4210-aa0c-1a66a73fa876",
   "metadata": {},
   "source": [
    "## Mint\n",
    "\n",
    "see [mint_melt.ipynb](./mint_melt.ipynb)"
   ]
  },
  {
   "cell_type": "code",
   "execution_count": 37,
   "id": "fec5188e-545d-4e8b-ba2d-56e267c96cf7",
   "metadata": {},
   "outputs": [],
   "source": [
    "import json\n",
    "from coincurve import PrivateKey, PublicKey\n",
    "from lib import hash_to_curve, subtract_points\n",
    "\n",
    "def generate_blinded_messages(secrets, amounts):\n",
    "    assert len(secrets) == len(amounts)\n",
    "    BlindedMessages =  []\n",
    "    rs = []\n",
    "    for s, amount in zip(secrets, amounts):\n",
    "        # r is a random blinding factor\n",
    "        r = PrivateKey()\n",
    "        R = r.public_key\n",
    "        #Y = hash_to_curve(x)\n",
    "        Y = hash_to_curve(s.encode())\n",
    "        # B_ = Y + rG\n",
    "        B_ = PublicKey.combine_keys([Y, R]).format().hex()\n",
    "        BlindedMessages.append({\"amount\": amount, \"B_\": B_})\n",
    "        rs.append(r.secret)\n",
    "    return BlindedMessages, rs\n",
    "\n",
    "def verify_token(C, secret_bytes, k: str):\n",
    "    # k*hash_to_curve(x) == C\n",
    "    Y = hash_to_curve(secret_bytes)\n",
    "    kY = Y.multiply(bytes.fromhex(k))\n",
    "    return kY.format().hex() == C\n",
    "\n",
    "def construct_token(C_: PublicKey, K: bytes, r: str):\n",
    "    rK = PublicKey(K).multiply(r)\n",
    "    # C = C_ - rK\n",
    "    C = subtract_points(C_, rK)\n",
    "    return C.format().hex()\n",
    "\n",
    "def construct_inputs(blinded_sigs, rs, secrets):\n",
    "    inputs = []\n",
    "    for output, r, s in zip(blinded_sigs, rs, secrets):\n",
    "        amount = output[\"amount\"]\n",
    "        # K is the public key for this token value\n",
    "        K = bytes.fromhex(pubkeys.get(str(amount)))\n",
    "        # C_ is blinded signature\n",
    "        C_ = PublicKey(bytes.fromhex(output[\"C_\"]))\n",
    "        # C is unblinded signature\n",
    "        C = construct_token(C_, K, r)\n",
    "        assert verify_token(C, s.encode(), privkeys.get(str(amount)))\n",
    "        inputs.append({\n",
    "            \"amount\": amount,\n",
    "            \"C\": C,\n",
    "            \"id\": output[\"id\"],\n",
    "            \"secret\": s\n",
    "        })\n",
    "    return json.dumps(inputs)\n",
    "    \n"
   ]
  },
  {
   "cell_type": "code",
   "execution_count": 20,
   "id": "73eebeac-1656-4da9-bbf5-130416f73545",
   "metadata": {},
   "outputs": [],
   "source": [
    "l1=\"/nix/store/0bq00qd0scchy6vasjpqxqg53aijcca3-clightning-v23.11rc1/bin/lightning-cli --lightning-dir=/home/gudnuf/cashu/pyshu_mint/.lightning_nodes/l1\"\n",
    "l2=\"/nix/store/0bq00qd0scchy6vasjpqxqg53aijcca3-clightning-v23.11rc1/bin/lightning-cli --lightning-dir=/home/gudnuf/cashu/pyshu_mint/.lightning_nodes/l2\"\n"
   ]
  },
  {
   "cell_type": "code",
   "execution_count": 21,
   "id": "0cfb84cf-e99d-47f3-8fb3-9b249a2d6e45",
   "metadata": {},
   "outputs": [],
   "source": [
    "pubkeys = !$l1 cashu-get-keys | jq -r .keysets[0].keys\n",
    "pubkeys = json.loads(''.join(pubkeys))\n",
    "privkeys = !$l1 cashu-dev-get-privkeys\n",
    "privkeys = json.loads(''.join(privkeys))"
   ]
  },
  {
   "cell_type": "code",
   "execution_count": 22,
   "id": "32318674-410d-40a5-8eeb-d104b7eaad90",
   "metadata": {},
   "outputs": [
    {
     "name": "stdout",
     "output_type": "stream",
     "text": [
      "quoteId: 2b0dca0e20ff32e0\n",
      "bolt11:  lnbcrt20n1pj6dh6rsp5pg59gequqyrflsgu4z5wqr5c5tl22r76kt49ylnly94wvfht24tqpp52ukey2eeevdvd2u8d0ehj0z7m659ar00td8rq5l33aqtg95yj92qdqsg9hzq6twwehkjcm9xqyjw5qcqp2fp4phjqgawgjnslf20s64qk4fuqktv89wlntmp30hrf72waqevwztxwq9qx3qysgq83znkpsfngeupve56cqhhw07tmmqd6kpc45qejtwulfqz5dpmu3sz999q7hs8cvpxvt8jsvte6k60sm72quw0cc60l3awsjkpkgvzlsphhwn6h\n"
     ]
    }
   ],
   "source": [
    "mint_quote = !$l1 -k cashu-quote-mint amount=2 unit=\"sat\" | jq -r \n",
    "mint_quote = json.loads(''.join(mint_quote))\n",
    "\n",
    "# quote is the unique id for this exchange\n",
    "mint_id = mint_quote[\"quote\"]\n",
    "# `request` is a lightning invoice\n",
    "mint_invoice = mint_quote[\"request\"]\n",
    "\n",
    "print(\"quoteId:\", mint_id)\n",
    "print(\"bolt11: \", mint_invoice)"
   ]
  },
  {
   "cell_type": "code",
   "execution_count": 23,
   "id": "00922068-6b66-49b2-acf1-772fa3ad5179",
   "metadata": {},
   "outputs": [
    {
     "name": "stdout",
     "output_type": "stream",
     "text": [
      "MINT INVOICE STATUS: ['complete']\n"
     ]
    }
   ],
   "source": [
    "mint_invoice_status = !$l2 pay \"$mint_invoice\" | jq -r .status\n",
    "print (\"MINT INVOICE STATUS:\", mint_invoice_status)"
   ]
  },
  {
   "cell_type": "code",
   "execution_count": 25,
   "id": "1bc564a6-3d3c-4188-b64b-85bdb422f8e7",
   "metadata": {},
   "outputs": [
    {
     "data": {
      "text/plain": [
       "'[{\"amount\": 2, \"B_\": \"022e98c84d8034c3fc765b4f4ab0c1b3650394c3453264cfdad8c8d0e4183471e5\"}]'"
      ]
     },
     "execution_count": 25,
     "metadata": {},
     "output_type": "execute_result"
    }
   ],
   "source": [
    "secrets = ['2']\n",
    "amounts = [2]\n",
    "b_messages, rs = generate_blinded_messages(secrets, amounts)\n",
    "\n",
    "json.dumps(b_messages)"
   ]
  },
  {
   "cell_type": "code",
   "execution_count": 31,
   "id": "a4fe6814-1f27-46ae-9926-f032de84bec8",
   "metadata": {},
   "outputs": [],
   "source": [
    "### Mint token"
   ]
  },
  {
   "cell_type": "code",
   "execution_count": 33,
   "id": "ca4c1210-83a2-42ad-bf64-3d9ba15d327a",
   "metadata": {},
   "outputs": [
    {
     "data": {
      "text/plain": [
       "'[{\"amount\": 2, \"id\": \"00f775c2e5e81aa3\", \"C_\": \"02cd5cd0dbfdf95ba4c24e7ed50605f8bc81d1eacdf4c5b6388acff16042767d8d\"}]'"
      ]
     },
     "execution_count": 33,
     "metadata": {},
     "output_type": "execute_result"
    }
   ],
   "source": [
    "blinded_sigs = !/nix/store/0bq00qd0scchy6vasjpqxqg53aijcca3-clightning-v23.11rc1/bin/lightning-cli --lightning-dir=/home/gudnuf/cashu/pyshu_mint/.lightning_nodes/l1 cashu-mint 2b0dca0e20ff32e0 '[{\"amount\": 2, \"B_\": \"022e98c84d8034c3fc765b4f4ab0c1b3650394c3453264cfdad8c8d0e4183471e5\"}]'\n",
    "blinded_sigs = json.loads(''.join(blinded_sigs))\n",
    "blinded_sigs\n",
    "json.dumps(blinded_sigs)"
   ]
  },
  {
   "cell_type": "markdown",
   "id": "55e2636f-2252-4a2e-8014-6d652f743e06",
   "metadata": {},
   "source": [
    "### Generate new blinded messages to swap\n"
   ]
  },
  {
   "cell_type": "code",
   "execution_count": 42,
   "id": "d3cb3792-a93e-4495-941b-0954df226ed9",
   "metadata": {},
   "outputs": [
    {
     "data": {
      "text/plain": [
       "'[{\"amount\": 2, \"C\": \"02853da76d8dedbbcece373e312007cc3bb92711380c03a0ca96c56f427a0a50e0\", \"id\": \"00f775c2e5e81aa3\", \"secret\": \"2\"}]'"
      ]
     },
     "execution_count": 42,
     "metadata": {},
     "output_type": "execute_result"
    }
   ],
   "source": [
    "swap_secrets = ['1', '1']\n",
    "swap_amounts = [1, 1]\n",
    "swap_b_messages, swap_rs = generate_blinded_messages(swap_secrets, swap_amounts)\n",
    "\n",
    "construct_inputs(blinded_sigs,rs, secrets)"
   ]
  },
  {
   "cell_type": "code",
   "execution_count": 43,
   "id": "d9461d42-aa94-409f-9f57-187adb4aca05",
   "metadata": {},
   "outputs": [
    {
     "name": "stdout",
     "output_type": "stream",
     "text": [
      "[\n",
      "   {\n",
      "      \"amount\": 1,\n",
      "      \"id\": \"00f775c2e5e81aa3\",\n",
      "      \"C_\": \"02d87f43f1911417336d2eccfadc6bd29f0daff8f9a8e015e7adf416fc3a497934\"\n",
      "   },\n",
      "   {\n",
      "      \"amount\": 1,\n",
      "      \"id\": \"00f775c2e5e81aa3\",\n",
      "      \"C_\": \"021318e86d25ddf4b27762be3c9b6171f9c255d88d02b73beb872cecf76e249023\"\n",
      "   }\n",
      "]\n"
     ]
    }
   ],
   "source": [
    "!/nix/store/0bq00qd0scchy6vasjpqxqg53aijcca3-clightning-v23.11rc1/bin/lightning-cli --lightning-dir=/home/gudnuf/cashu/pyshu_mint/.lightning_nodes/l1 cashu-swap '[{\"amount\": 2, \"C\": \"02853da76d8dedbbcece373e312007cc3bb92711380c03a0ca96c56f427a0a50e0\", \"id\": \"00f775c2e5e81aa3\", \"secret\": \"2\"}]' '[{\"amount\": 1, \"B_\": \"020625a5edaeb92f40489e160953cf0df0e810be14213722a5acc12b8619cd4cec\"}, {\"amount\": 1, \"B_\": \"02be14b363153661a8073ad1ec6dd2d4121a821f45d33b82e3da63245af11f70bd\"}]'"
   ]
  },
  {
   "cell_type": "code",
   "execution_count": null,
   "id": "7e3df051-b026-41bc-a8a9-c37743af28d2",
   "metadata": {},
   "outputs": [],
   "source": []
  }
 ],
 "metadata": {
  "kernelspec": {
   "display_name": "Python 3 (ipykernel)",
   "language": "python",
   "name": "python3"
  },
  "language_info": {
   "codemirror_mode": {
    "name": "ipython",
    "version": 3
   },
   "file_extension": ".py",
   "mimetype": "text/x-python",
   "name": "python",
   "nbconvert_exporter": "python",
   "pygments_lexer": "ipython3",
   "version": "3.11.6"
  }
 },
 "nbformat": 4,
 "nbformat_minor": 5
}
