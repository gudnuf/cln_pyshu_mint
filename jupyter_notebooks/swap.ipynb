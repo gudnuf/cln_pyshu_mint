{
 "cells": [
  {
   "cell_type": "markdown",
   "id": "dd5a0940-6c49-46f9-8977-2d6c30627638",
   "metadata": {},
   "source": [
    "## Set up lightning-cli's"
   ]
  },
  {
   "cell_type": "code",
   "execution_count": 1,
   "id": "c15067f4-4829-4e04-8153-da85f9197f74",
   "metadata": {},
   "outputs": [
    {
     "name": "stdout",
     "output_type": "stream",
     "text": [
      "l1's lightning-cli is:  /nix/store/0bq00qd0scchy6vasjpqxqg53aijcca3-clightning-v23.11rc1/bin/lightning-cli --lightning-dir=/home/gudnuf/cashu/pyshu_mint/.lightning_nodes/l1\n",
      "l2's lightning-cli is:  /nix/store/0bq00qd0scchy6vasjpqxqg53aijcca3-clightning-v23.11rc1/bin/lightning-cli --lightning-dir=/home/gudnuf/cashu/pyshu_mint/.lightning_nodes/l2\n"
     ]
    }
   ],
   "source": [
    "# these variables are defined in the flake.nix\n",
    "path_to_lightning = ! echo $PATH_TO_LIGHTNING\n",
    "lightning_bin_dir = ! echo $LIGHTNING_BIN_DIR\n",
    "\n",
    "# if \"list index out of range\", make sure you set where your nodes and lightning bins are\n",
    "path_to_lightning = path_to_lightning[0]\n",
    "lightning_bin_dir = lightning_bin_dir[0]\n",
    "\n",
    "l1 = f'{lightning_bin_dir}/lightning-cli --lightning-dir={path_to_lightning}/l1'\n",
    "l2 = f'{lightning_bin_dir}/lightning-cli --lightning-dir={path_to_lightning}/l2'\n",
    "\n",
    "print(\"l1's lightning-cli is: \", l1)\n",
    "print(\"l2's lightning-cli is: \", l2)\n"
   ]
  },
  {
   "cell_type": "markdown",
   "id": "9c939fe3-7d0e-4c46-b9f9-75f91f4707f5",
   "metadata": {},
   "source": [
    "## Swapping \n",
    "\n",
    "\"most important component of the Cashu system\"\n",
    "\n",
    "We will mint one 2 sat token, and then swap it for 2 1 sat tokens."
   ]
  },
  {
   "cell_type": "markdown",
   "id": "dc05eae5-b963-4210-aa0c-1a66a73fa876",
   "metadata": {},
   "source": [
    "## Mint\n",
    "\n",
    "Pay a lightning invoice in exchange for signed tokens. For more see [mint_melt.ipynb](./mint_melt.ipynb)"
   ]
  },
  {
   "cell_type": "code",
   "execution_count": 2,
   "id": "fec5188e-545d-4e8b-ba2d-56e267c96cf7",
   "metadata": {},
   "outputs": [],
   "source": [
    "import json\n",
    "from coincurve import PrivateKey, PublicKey\n",
    "from random import randint\n",
    "from lib import construct_inputs, generate_blinded_messages"
   ]
  },
  {
   "cell_type": "code",
   "execution_count": 3,
   "id": "0cfb84cf-e99d-47f3-8fb3-9b249a2d6e45",
   "metadata": {},
   "outputs": [],
   "source": [
    "pubkeys = !$l1 cashu-get-keys | jq -r .keysets[0].keys\n",
    "pubkeys = json.loads(''.join(pubkeys))\n",
    "\n",
    "# only active for dev environments\n",
    "privkeys = !$l1 cashu-dev-get-privkeys\n",
    "privkeys = json.loads(''.join(privkeys))"
   ]
  },
  {
   "cell_type": "code",
   "execution_count": 4,
   "id": "8c250c49-c2b6-48e3-a241-450b44bb6f60",
   "metadata": {},
   "outputs": [
    {
     "name": "stdout",
     "output_type": "stream",
     "text": [
      "quoteId: 30f012662a43ba92\n",
      "bolt11:  lnbcrt20n1pj6kztusp5jm9ulavuncplkktjewclpyjxhc8j2gtghdms6r5tjwpfr0qk8agqpp5k3wpwtpahy5a4mdcl9w9as0st0sxyqn27v4dq5d2wqafglr4ax8sdqsg9hzq6twwehkjcm9xqyjw5qcqp2fp4ppygh3980ddz3nqmcp8axes6xux788sntnr6vu7sh5ndl0avxz2yq9qx3qysgqnxl5szyqjrplrlvnhqhlpzjlqatr43jeumraz6qwzjpwmgn6kmxhw4ucmjmegvxtf0lzv9y76zvjg5qa2txjple6c9axjy0lyqh3krqpuqduah\n"
     ]
    }
   ],
   "source": [
    "mint_quote = !$l1 -k cashu-quote-mint amount=2 unit=\"sat\" | jq -r \n",
    "mint_quote = json.loads(''.join(mint_quote))\n",
    "\n",
    "# quote is the unique id for this exchange\n",
    "mint_id = mint_quote[\"quote\"]\n",
    "# `request` is a lightning invoice\n",
    "mint_invoice = mint_quote[\"request\"]\n",
    "\n",
    "print(\"quoteId:\", mint_id)\n",
    "print(\"bolt11: \", mint_invoice)"
   ]
  },
  {
   "cell_type": "code",
   "execution_count": 5,
   "id": "00922068-6b66-49b2-acf1-772fa3ad5179",
   "metadata": {},
   "outputs": [
    {
     "name": "stdout",
     "output_type": "stream",
     "text": [
      "{\n",
      "   \"destination\": \"02dd1023c37ed5d4e43b0754efcb73d6e457e06fd40fd43461e078b82fe360c1de\",\n",
      "   \"payment_hash\": \"b45c172c3db929daedb8f95c5ec1f05be062026af32ad051aa703a947c75e98f\",\n",
      "   \"created_at\": 1705707900.172246288,\n",
      "   \"parts\": 1,\n",
      "   \"amount_msat\": 2000,\n",
      "   \"amount_sent_msat\": 2000,\n",
      "   \"payment_preimage\": \"ae3fbfabc0ed9d8153eb8be21f99972fcaffb9cd103b4ced4e28d189adff0cc8\",\n",
      "   \"status\": \"complete\"\n",
      "}\n"
     ]
    }
   ],
   "source": [
    "# pay the invoice so l1 gives us the tokens\n",
    "!$l2 pay $mint_invoice"
   ]
  },
  {
   "cell_type": "code",
   "execution_count": 6,
   "id": "1bc564a6-3d3c-4188-b64b-85bdb422f8e7",
   "metadata": {},
   "outputs": [
    {
     "data": {
      "text/plain": [
       "[{'amount': 2,\n",
       "  'B_': '0324fab2bc5ffb6dbaa78afa06400c45a1afc0b0842403b5a25d4dbd261a8d0934'}]"
      ]
     },
     "execution_count": 6,
     "metadata": {},
     "output_type": "execute_result"
    }
   ],
   "source": [
    "secrets = [str(randint(0, 10000)) for _ in range(1)]\n",
    "# one 2 sat token\n",
    "amounts = [2]\n",
    "b_messages, rs = generate_blinded_messages(secrets, amounts)\n",
    "b_messages"
   ]
  },
  {
   "cell_type": "markdown",
   "id": "854e4582-f805-4127-bfae-7d7d4d2388b9",
   "metadata": {},
   "source": [
    "### Mint token"
   ]
  },
  {
   "cell_type": "code",
   "execution_count": 7,
   "id": "ca4c1210-83a2-42ad-bf64-3d9ba15d327a",
   "metadata": {},
   "outputs": [
    {
     "name": "stdout",
     "output_type": "stream",
     "text": [
      "[{'amount': 2, 'id': '00f775c2e5e81aa3', 'C_': '023d5343e294b6b443700da6b75c3ad5a6bb7cb79bf192afc590febc9b3b5230b2'}]\n"
     ]
    }
   ],
   "source": [
    "# lightning-cli -k cashu-mint quote=<str> blinded_messages=<List[blinded_messages]>\n",
    "mint_command = f'{l1} -k cashu-mint quote=\\'{mint_id}\\' blinded_messages=\\'{json.dumps(b_messages)}\\''\n",
    "blinded_sigs = !$mint_command\n",
    "blinded_sigs = json.loads(''.join(blinded_sigs))\n",
    "\n",
    "# blinded_sigs should be a list\n",
    "if isinstance(blinded_sigs, dict):\n",
    "    raise AssertionError(\"{}\".format(blinded_sigs))\n",
    "else:\n",
    "    print(blinded_sigs)"
   ]
  },
  {
   "cell_type": "markdown",
   "id": "55e2636f-2252-4a2e-8014-6d652f743e06",
   "metadata": {},
   "source": [
    "### Generate new blinded messages to swap\n"
   ]
  },
  {
   "cell_type": "code",
   "execution_count": 10,
   "id": "d3cb3792-a93e-4495-941b-0954df226ed9",
   "metadata": {},
   "outputs": [
    {
     "data": {
      "text/plain": [
       "'[{\"amount\": 2, \"C\": \"030ecc9dc34b2b2d533c5972e59ff6ea79b32767be0c67a4a8d319331ef8467639\", \"id\": \"00f775c2e5e81aa3\", \"secret\": \"9673\"}]'"
      ]
     },
     "execution_count": 10,
     "metadata": {},
     "output_type": "execute_result"
    }
   ],
   "source": [
    "swap_secrets = [str(randint(0, 10000)) for _ in range(2)]\n",
    "# two 1 sat tokens\n",
    "swap_amounts = [1, 1]\n",
    "swap_b_messages, swap_rs = generate_blinded_messages(swap_secrets, swap_amounts)\n",
    "\n",
    "inputs = construct_inputs(blinded_sigs,rs, secrets, pubkeys, privkeys)\n",
    "inputs"
   ]
  },
  {
   "cell_type": "code",
   "execution_count": 9,
   "id": "d9461d42-aa94-409f-9f57-187adb4aca05",
   "metadata": {},
   "outputs": [
    {
     "name": "stdout",
     "output_type": "stream",
     "text": [
      "[\n",
      "   {\n",
      "      \"amount\": 1,\n",
      "      \"id\": \"00f775c2e5e81aa3\",\n",
      "      \"C_\": \"02151119ded4b930cfefc5600b2890698450acc12388abf18bf89a6540c7719107\"\n",
      "   },\n",
      "   {\n",
      "      \"amount\": 1,\n",
      "      \"id\": \"00f775c2e5e81aa3\",\n",
      "      \"C_\": \"03b6e5665c9128b2b1feef181bf14928820384c5037eaf5d29816f1cb376bb24a1\"\n",
      "   }\n",
      "]\n"
     ]
    }
   ],
   "source": [
    "# lightning-cli -k cashu-swap inputs=<List[BlindedMessages]> outputs=<List[Proofs]>\n",
    "swap_command = f'{l1} -k cashu-swap inputs=\\'{inputs}\\' outputs=\\'{json.dumps(swap_b_messages)}\\''\n",
    "!$swap_command"
   ]
  }
 ],
 "metadata": {
  "kernelspec": {
   "display_name": "Python 3 (ipykernel)",
   "language": "python",
   "name": "python3"
  },
  "language_info": {
   "codemirror_mode": {
    "name": "ipython",
    "version": 3
   },
   "file_extension": ".py",
   "mimetype": "text/x-python",
   "name": "python",
   "nbconvert_exporter": "python",
   "pygments_lexer": "ipython3",
   "version": "3.11.6"
  }
 },
 "nbformat": 4,
 "nbformat_minor": 5
}
